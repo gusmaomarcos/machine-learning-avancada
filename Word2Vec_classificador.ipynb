{
  "nbformat": 4,
  "nbformat_minor": 0,
  "metadata": {
    "colab": {
      "provenance": [],
      "authorship_tag": "ABX9TyPb307XjsZ68SvpijXfF2M8",
      "include_colab_link": true
    },
    "kernelspec": {
      "name": "python3",
      "display_name": "Python 3"
    },
    "language_info": {
      "name": "python"
    }
  },
  "cells": [
    {
      "cell_type": "markdown",
      "metadata": {
        "id": "view-in-github",
        "colab_type": "text"
      },
      "source": [
        "<a href=\"https://colab.research.google.com/github/gusmaomarcos/machine-learning-avancada/blob/main/word2vec_classificador.ipynb\" target=\"_parent\"><img src=\"https://colab.research.google.com/assets/colab-badge.svg\" alt=\"Open In Colab\"/></a>"
      ]
    },
    {
      "cell_type": "code",
      "execution_count": null,
      "metadata": {
        "id": "_I95qDhc4c-S"
      },
      "outputs": [],
      "source": [
        "#!python -m spacy download pt_core_news_sm"
      ]
    },
    {
      "cell_type": "code",
      "source": [
        "from google.colab import drive\n",
        "drive.mount('/content/drive')"
      ],
      "metadata": {
        "colab": {
          "base_uri": "https://localhost:8080/"
        },
        "id": "u9lrTRHT8p4K",
        "outputId": "9d139559-65c7-4feb-d65d-d003faf9b274"
      },
      "execution_count": null,
      "outputs": [
        {
          "output_type": "stream",
          "name": "stdout",
          "text": [
            "Mounted at /content/drive\n"
          ]
        }
      ]
    },
    {
      "cell_type": "code",
      "source": [
        "import pandas as pd\n",
        "import numpy as np\n",
        "import spacy\n",
        "#import pt_core_news_sm\n",
        "\n",
        "from gensim.models import KeyedVectors"
      ],
      "metadata": {
        "id": "S13CZwXp4m6M"
      },
      "execution_count": null,
      "outputs": []
    },
    {
      "cell_type": "code",
      "source": [
        "w2v_modelo_cbow = KeyedVectors.load_word2vec_format('/content/drive/MyDrive/Databases/word2vec_2/modelo_cbow.txt')\n",
        "w2v_modelo_sg = KeyedVectors.load_word2vec_format('/content/drive/MyDrive/Databases/word2vec_2/modelo_skipgram.txt')\n",
        "\n",
        "teste = \"/content/drive/MyDrive/Databases/word2vec_2/teste.csv\"\n",
        "treino = \"/content/drive/MyDrive/Databases/word2vec_2/treino.csv\"\n",
        "\n",
        "artigo_teste = pd.read_csv(teste)\n",
        "artigo_treino = pd.read_csv(treino)"
      ],
      "metadata": {
        "id": "tO0Bi4W48Q1X"
      },
      "execution_count": null,
      "outputs": []
    },
    {
      "cell_type": "code",
      "source": [
        "nlp = spacy.load('pt_core_news_sm', disable=['parser', 'ner', 'tagger', 'textcat'])\n",
        "\n",
        "def tokenizador(texto):\n",
        "    doc = nlp(texto)\n",
        "    tokens_validos = []\n",
        "    for token in doc:\n",
        "        e_valido = not token.is_stop and token.is_alpha\n",
        "        if e_valido:\n",
        "            tokens_validos.append(token.text.lower())\n",
        "\n",
        "    return tokens_validos\n",
        "\n",
        "texto = 'MERCEDES PROMETE MAIS ATUALIZAÇÕES PARA AS PRÓXIMAS CORRIDAS'\n",
        "tokens = tokenizador(texto)\n",
        "print(tokens)"
      ],
      "metadata": {
        "colab": {
          "base_uri": "https://localhost:8080/"
        },
        "id": "WSxlnm3-5pPa",
        "outputId": "1f18ea7d-f469-4690-cf31-8bbbcf58f7b1"
      },
      "execution_count": null,
      "outputs": [
        {
          "output_type": "stream",
          "name": "stdout",
          "text": [
            "['mercedes', 'promete', 'atualizações', 'próximas', 'corridas']\n"
          ]
        }
      ]
    },
    {
      "cell_type": "code",
      "source": [
        "def combinacao_de_vetores_por_soma(palavras, modelo):\n",
        "    vetor_resultante = np.zeros(300)\n",
        "\n",
        "    for pn in palavras:\n",
        "        try:\n",
        "            vetor_resultante += modelo.get_vector(pn)\n",
        "        except KeyError:\n",
        "            pass\n",
        "\n",
        "    return vetor_resultante\n",
        "\n",
        "vetor_texto = combinacao_de_vetores_por_soma(tokens, w2v_modelo_cbow)\n",
        "#print(vetor_texto)"
      ],
      "metadata": {
        "colab": {
          "base_uri": "https://localhost:8080/"
        },
        "id": "_lvv0JAI5mZk",
        "outputId": "59253fd7-36c5-48d4-e24d-af853df3434c"
      },
      "execution_count": null,
      "outputs": [
        {
          "output_type": "stream",
          "name": "stdout",
          "text": [
            "[ 0.59530419 -1.07734841  0.36770131  0.15194771 -0.20767688  0.95430392\n",
            "  0.88788593 -0.80822411 -0.92314301  0.65805054 -2.13131181 -0.78005192\n",
            "  0.58454423  0.14748066  0.08369558 -1.03352138  2.42359552  0.15587878\n",
            " -0.221493    1.00122724 -1.75546175  0.43169922  1.20668842 -0.73070091\n",
            "  2.05204287  0.34299631  0.61302301  0.08736861 -0.77551249  0.65940253\n",
            " -0.64854321 -0.55885904 -0.48426901  0.73180223 -0.62548091 -0.53340746\n",
            " -1.11058009 -0.10868419  1.70830433 -1.38651092 -2.14526627  2.13764572\n",
            "  0.32960287 -1.67200828 -0.09541127  0.35700931 -0.36711256  1.17965975\n",
            " -0.47576071 -0.34742113 -1.08551154  0.34565646 -1.2931365  -0.99911633\n",
            " -0.60599634  1.40182677  0.55819917  0.41082618 -1.72160918  1.00999755\n",
            "  0.17919517  2.96014974 -0.30954469  0.05653854 -0.885763   -0.20292845\n",
            " -0.02558921 -0.49619792  0.25520013 -1.13283639  0.28198233  1.79641049\n",
            " -0.88748146  1.69078062 -1.36754021 -1.04830903  0.17443937 -0.34147414\n",
            " -2.40850006  0.64497968  0.94879428 -1.25105568  0.50540781  2.43918075\n",
            "  0.99602136  0.57398105 -1.13989163  1.62281749 -0.19537292  1.79810686\n",
            "  1.43667108  2.9867599   0.29546165  1.42906553  0.07323412 -1.18378371\n",
            "  0.06694301 -1.20166198 -0.86776838  0.64491087  1.30265918 -1.79580891\n",
            "  0.00495996  1.28040545 -0.32788085 -0.18889969  0.70304471 -0.22736581\n",
            "  0.61026195 -1.79962006  1.33103993 -0.75006858 -1.26697322  1.0134902\n",
            " -0.93569566  2.29777738 -0.22301088  0.47151625  0.39806896 -0.59275392\n",
            "  0.08182512 -1.46325878 -0.6948996  -0.31520456  0.28496668  0.20551778\n",
            "  0.90966848  1.02349545  0.91036375  0.35380573 -0.4236257   0.11657323\n",
            " -1.10348396 -0.52797591  0.02076639  0.15446381  0.35081251 -0.06625204\n",
            " -1.96715171 -0.59997704  0.25659395 -2.87423496 -1.23041046 -0.25285706\n",
            " -0.56986944  0.35014012 -0.88811569  1.70454104  0.82901606 -0.99800192\n",
            " -1.84539203 -0.92093741  0.49858175  0.82104161 -0.63445264  1.80028766\n",
            "  0.34658658  1.89096823  1.28079709  0.4805569   1.2118828   0.78850687\n",
            " -0.68516331 -1.92412876  0.67502231 -0.2615021  -0.28636432 -0.82808892\n",
            "  0.22111914 -0.70531571 -1.11256863  1.1971741   0.7049979   1.15219874\n",
            "  0.27315246 -0.66922095  0.82010376 -2.19933555 -1.97304033 -0.41322592\n",
            " -0.778383   -0.482797   -2.40141833 -0.2985016  -0.26645534 -0.8251404\n",
            "  1.36345535 -0.00802283 -0.22478214 -1.66158698 -1.26895002  1.66299213\n",
            "  0.5477155   1.7600905  -0.51642275  1.26608188  0.58400745  0.62773871\n",
            "  0.15279417 -0.47077413 -1.9369576   0.73314616 -0.41525757  0.78724393\n",
            " -1.44168141 -0.1293691  -0.17913644  1.66238678  0.92702658 -0.13264421\n",
            " -1.0802688  -1.42821164  0.38029797  1.65573904  0.54478034 -1.20946729\n",
            "  0.0630715  -1.1435651  -1.69269699 -0.55565788 -1.72989721 -0.81288263\n",
            "  0.44450779  2.01356673 -0.44256233  0.86300713 -0.10166615  0.44852432\n",
            "  0.97822636  0.1338891   0.93851078 -1.99657783  2.0559337  -0.43754235\n",
            " -0.70476755 -1.58895633  0.16533534  1.46630549 -0.599834   -0.7581772\n",
            " -2.80002473  0.39246503  0.24022329 -0.53714299  0.0125974  -1.06821851\n",
            " -0.17026894  0.42317862  0.82857466 -0.41699691 -0.61233208 -0.11352445\n",
            "  1.39637479  0.07752913 -1.02453183 -0.31138708 -1.55856912  0.18298258\n",
            " -1.83600184 -0.39433766  1.90168256 -0.20276131  1.10344873 -0.93570666\n",
            " -0.80899088 -0.54208598  0.19367314 -0.53533079  0.66509053 -1.64777602\n",
            "  0.60968587  0.76165673  2.14539558  0.10153699 -0.73221239 -0.33898986\n",
            "  0.34940172  1.26075026  0.02839872 -0.91350254  0.4257313  -0.06404591\n",
            " -1.29369061  0.72191487  1.23920685 -1.46352603 -1.4972797   0.21155535\n",
            "  1.74384802  0.19990147 -2.03918557  2.0272864   1.25497706  1.38610784\n",
            " -0.77438265 -1.02526885  0.82105415  0.55326755  1.44716316 -1.37627586]\n"
          ]
        }
      ]
    },
    {
      "cell_type": "code",
      "source": [
        "def matriz_vetores(textos, modelo):\n",
        "    x = len(textos)\n",
        "    y = 300\n",
        "    matriz = np.zeros((x,y))\n",
        "\n",
        "    for i in range(x):\n",
        "        palavras = tokenizador(textos.iloc[i])\n",
        "        matriz[i] = combinacao_de_vetores_por_soma(palavras,modelo)\n",
        "\n",
        "    return matriz\n",
        "\n",
        "matriz_treino_cbow = matriz_vetores(artigo_treino['title'], w2v_modelo_cbow)\n",
        "matriz_teste_cbow = matriz_vetores(artigo_teste['title'], w2v_modelo_cbow)"
      ],
      "metadata": {
        "id": "0J3apikf5fbD"
      },
      "execution_count": null,
      "outputs": []
    },
    {
      "cell_type": "code",
      "source": [
        "from sklearn.linear_model import LogisticRegression\n",
        "from sklearn.metrics import classification_report\n",
        "\n",
        "def classificador(modelo, x_treino, y_treino, x_teste, y_teste):\n",
        "\n",
        "    RL=LogisticRegression(max_iter=800)\n",
        "    RL.fit(x_treino, y_treino)\n",
        "    categorias = RL.predict(x_teste)\n",
        "    print(classification_report(y_teste, categorias))\n",
        "    return RL\n",
        "\n",
        "RL_cbow = classificador(w2v_modelo_cbow,\n",
        "                        matriz_treino_cbow, artigo_treino['category'],\n",
        "                        matriz_teste_cbow, artigo_teste['category'])"
      ],
      "metadata": {
        "colab": {
          "base_uri": "https://localhost:8080/"
        },
        "id": "OuqF03RvAo-u",
        "outputId": "45c90bbd-03dd-47c5-a9f3-81e98e5e54bf"
      },
      "execution_count": null,
      "outputs": [
        {
          "output_type": "stream",
          "name": "stdout",
          "text": [
            "              precision    recall  f1-score   support\n",
            "\n",
            "     colunas       0.81      0.71      0.76      6103\n",
            "   cotidiano       0.63      0.80      0.70      1698\n",
            "     esporte       0.93      0.86      0.89      4663\n",
            "   ilustrada       0.13      0.85      0.23       131\n",
            "     mercado       0.83      0.78      0.81      5867\n",
            "       mundo       0.74      0.83      0.78      2051\n",
            "\n",
            "    accuracy                           0.79     20513\n",
            "   macro avg       0.68      0.81      0.70     20513\n",
            "weighted avg       0.82      0.79      0.80     20513\n",
            "\n"
          ]
        }
      ]
    },
    {
      "cell_type": "code",
      "source": [
        "matriz_treino_sg = matriz_vetores(artigo_treino['title'], w2v_modelo_sg)\n",
        "matriz_teste_sg = matriz_vetores(artigo_teste['title'], w2v_modelo_sg)\n",
        "\n",
        "RL_sg = classificador(w2v_modelo_sg,\n",
        "                        matriz_treino_sg, artigo_treino['category'],\n",
        "                        matriz_teste_sg, artigo_teste['category'])"
      ],
      "metadata": {
        "colab": {
          "base_uri": "https://localhost:8080/"
        },
        "id": "q0yt-J8ZFN_q",
        "outputId": "eeb73548-ea4a-4887-c68a-f908ad5d8e32"
      },
      "execution_count": null,
      "outputs": [
        {
          "output_type": "stream",
          "name": "stdout",
          "text": [
            "              precision    recall  f1-score   support\n",
            "\n",
            "     colunas       0.81      0.72      0.76      6103\n",
            "   cotidiano       0.64      0.80      0.71      1698\n",
            "     esporte       0.93      0.88      0.90      4663\n",
            "   ilustrada       0.14      0.87      0.25       131\n",
            "     mercado       0.84      0.79      0.82      5867\n",
            "       mundo       0.75      0.85      0.80      2051\n",
            "\n",
            "    accuracy                           0.80     20513\n",
            "   macro avg       0.69      0.82      0.71     20513\n",
            "weighted avg       0.82      0.80      0.81     20513\n",
            "\n"
          ]
        }
      ]
    },
    {
      "cell_type": "code",
      "source": [
        "import pickle\n",
        "\n",
        "with open('/content/drive/MyDrive/Databases/word2vec_2/rl_cbow.pkl', 'wb') as f:\n",
        "    pickle.dump(RL_cbow, f)"
      ],
      "metadata": {
        "id": "hTZLYlfWF0Wm"
      },
      "execution_count": null,
      "outputs": []
    },
    {
      "cell_type": "code",
      "source": [
        "with open('/content/drive/MyDrive/Databases/word2vec_2/rl_sg.pkl', 'wb') as f:\n",
        "    pickle.dump(RL_sg, f)"
      ],
      "metadata": {
        "id": "tOma6uxzHKJ_"
      },
      "execution_count": null,
      "outputs": []
    },
    {
      "cell_type": "code",
      "source": [
        "#rerun"
      ],
      "metadata": {
        "id": "SG9ZrNbiI4I8"
      },
      "execution_count": null,
      "outputs": []
    },
    {
      "cell_type": "code",
      "source": [],
      "metadata": {
        "id": "lJ1WhUvQLeni"
      },
      "execution_count": null,
      "outputs": []
    }
  ]
}
