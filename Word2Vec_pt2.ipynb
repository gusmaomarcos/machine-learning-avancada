{
  "nbformat": 4,
  "nbformat_minor": 0,
  "metadata": {
    "colab": {
      "provenance": [],
      "authorship_tag": "ABX9TyODCZsx7rZMMLmmkKG3bJFr",
      "include_colab_link": true
    },
    "kernelspec": {
      "name": "python3",
      "display_name": "Python 3"
    },
    "language_info": {
      "name": "python"
    }
  },
  "cells": [
    {
      "cell_type": "markdown",
      "metadata": {
        "id": "view-in-github",
        "colab_type": "text"
      },
      "source": [
        "<a href=\"https://colab.research.google.com/github/gusmaomarcos/machine-learning-avancada/blob/main/Word2Vec_pt2.ipynb\" target=\"_parent\"><img src=\"https://colab.research.google.com/assets/colab-badge.svg\" alt=\"Open In Colab\"/></a>"
      ]
    },
    {
      "cell_type": "code",
      "source": [
        "#!python -m spacy download pt_core_news_sm"
      ],
      "metadata": {
        "id": "OTOdfu4E48WZ"
      },
      "execution_count": null,
      "outputs": []
    },
    {
      "cell_type": "code",
      "execution_count": null,
      "metadata": {
        "id": "jW9yr9AMu8gR"
      },
      "outputs": [],
      "source": [
        "import pandas as pd\n",
        "import spacy\n",
        "import pt_core_news_sm"
      ]
    },
    {
      "cell_type": "code",
      "source": [
        "from google.colab import drive\n",
        "drive.mount('/content/drive')"
      ],
      "metadata": {
        "colab": {
          "base_uri": "https://localhost:8080/"
        },
        "id": "J6pTNYnrvOZE",
        "outputId": "8e49c999-39d5-4b6c-b99a-71ae373dc288"
      },
      "execution_count": null,
      "outputs": [
        {
          "output_type": "stream",
          "name": "stdout",
          "text": [
            "Mounted at /content/drive\n"
          ]
        }
      ]
    },
    {
      "cell_type": "code",
      "source": [
        "#Sempre checar se o caminho está correto.\n",
        "teste = \"/content/drive/MyDrive/Databases/word2vec_2/teste.csv\"\n",
        "treino = \"/content/drive/MyDrive/Databases/word2vec_2/treino.csv\"\n",
        "\n",
        "dados_teste = pd.read_csv(teste)\n",
        "dados_treino = pd.read_csv(treino)"
      ],
      "metadata": {
        "id": "44_EfUlYvagr"
      },
      "execution_count": null,
      "outputs": []
    },
    {
      "cell_type": "code",
      "source": [
        "dados_treino.sample(3)"
      ],
      "metadata": {
        "id": "iaCNaIdDyoyx",
        "colab": {
          "base_uri": "https://localhost:8080/",
          "height": 143
        },
        "outputId": "d0f0e52a-df30-42a8-9b29-a147fd8edaef"
      },
      "execution_count": null,
      "outputs": [
        {
          "output_type": "execute_result",
          "data": {
            "text/plain": [
              "                                                   title  \\\n",
              "37973  Reajustes salariais devem voltar a ganhar da i...   \n",
              "38999  Governo estuda mudar lei para facilitar fusão ...   \n",
              "56506  Trump busca alternativa para resolver disputa ...   \n",
              "\n",
              "                                                    text        date category  \\\n",
              "37973  Depois de dois anos no negativo, os reajustes ...  2017-01-24  mercado   \n",
              "38999  A Oi enviou a um grupo de trabalho criado no M...  2015-07-11  mercado   \n",
              "56506  A administração do presidente americano, Donal...  2017-02-28  mercado   \n",
              "\n",
              "      subcategory                                               link  \n",
              "37973         NaN  http://www1.folha.uol.com.br/mercado/2017/01/1...  \n",
              "38999         NaN  http://www1.folha.uol.com.br/mercado/2015/11/1...  \n",
              "56506         NaN  http://www1.folha.uol.com.br/mercado/2017/02/1...  "
            ],
            "text/html": [
              "\n",
              "  <div id=\"df-363905be-df82-49ef-aa99-642fedf00514\" class=\"colab-df-container\">\n",
              "    <div>\n",
              "<style scoped>\n",
              "    .dataframe tbody tr th:only-of-type {\n",
              "        vertical-align: middle;\n",
              "    }\n",
              "\n",
              "    .dataframe tbody tr th {\n",
              "        vertical-align: top;\n",
              "    }\n",
              "\n",
              "    .dataframe thead th {\n",
              "        text-align: right;\n",
              "    }\n",
              "</style>\n",
              "<table border=\"1\" class=\"dataframe\">\n",
              "  <thead>\n",
              "    <tr style=\"text-align: right;\">\n",
              "      <th></th>\n",
              "      <th>title</th>\n",
              "      <th>text</th>\n",
              "      <th>date</th>\n",
              "      <th>category</th>\n",
              "      <th>subcategory</th>\n",
              "      <th>link</th>\n",
              "    </tr>\n",
              "  </thead>\n",
              "  <tbody>\n",
              "    <tr>\n",
              "      <th>37973</th>\n",
              "      <td>Reajustes salariais devem voltar a ganhar da i...</td>\n",
              "      <td>Depois de dois anos no negativo, os reajustes ...</td>\n",
              "      <td>2017-01-24</td>\n",
              "      <td>mercado</td>\n",
              "      <td>NaN</td>\n",
              "      <td>http://www1.folha.uol.com.br/mercado/2017/01/1...</td>\n",
              "    </tr>\n",
              "    <tr>\n",
              "      <th>38999</th>\n",
              "      <td>Governo estuda mudar lei para facilitar fusão ...</td>\n",
              "      <td>A Oi enviou a um grupo de trabalho criado no M...</td>\n",
              "      <td>2015-07-11</td>\n",
              "      <td>mercado</td>\n",
              "      <td>NaN</td>\n",
              "      <td>http://www1.folha.uol.com.br/mercado/2015/11/1...</td>\n",
              "    </tr>\n",
              "    <tr>\n",
              "      <th>56506</th>\n",
              "      <td>Trump busca alternativa para resolver disputa ...</td>\n",
              "      <td>A administração do presidente americano, Donal...</td>\n",
              "      <td>2017-02-28</td>\n",
              "      <td>mercado</td>\n",
              "      <td>NaN</td>\n",
              "      <td>http://www1.folha.uol.com.br/mercado/2017/02/1...</td>\n",
              "    </tr>\n",
              "  </tbody>\n",
              "</table>\n",
              "</div>\n",
              "    <div class=\"colab-df-buttons\">\n",
              "\n",
              "  <div class=\"colab-df-container\">\n",
              "    <button class=\"colab-df-convert\" onclick=\"convertToInteractive('df-363905be-df82-49ef-aa99-642fedf00514')\"\n",
              "            title=\"Convert this dataframe to an interactive table.\"\n",
              "            style=\"display:none;\">\n",
              "\n",
              "  <svg xmlns=\"http://www.w3.org/2000/svg\" height=\"24px\" viewBox=\"0 -960 960 960\">\n",
              "    <path d=\"M120-120v-720h720v720H120Zm60-500h600v-160H180v160Zm220 220h160v-160H400v160Zm0 220h160v-160H400v160ZM180-400h160v-160H180v160Zm440 0h160v-160H620v160ZM180-180h160v-160H180v160Zm440 0h160v-160H620v160Z\"/>\n",
              "  </svg>\n",
              "    </button>\n",
              "\n",
              "  <style>\n",
              "    .colab-df-container {\n",
              "      display:flex;\n",
              "      gap: 12px;\n",
              "    }\n",
              "\n",
              "    .colab-df-convert {\n",
              "      background-color: #E8F0FE;\n",
              "      border: none;\n",
              "      border-radius: 50%;\n",
              "      cursor: pointer;\n",
              "      display: none;\n",
              "      fill: #1967D2;\n",
              "      height: 32px;\n",
              "      padding: 0 0 0 0;\n",
              "      width: 32px;\n",
              "    }\n",
              "\n",
              "    .colab-df-convert:hover {\n",
              "      background-color: #E2EBFA;\n",
              "      box-shadow: 0px 1px 2px rgba(60, 64, 67, 0.3), 0px 1px 3px 1px rgba(60, 64, 67, 0.15);\n",
              "      fill: #174EA6;\n",
              "    }\n",
              "\n",
              "    .colab-df-buttons div {\n",
              "      margin-bottom: 4px;\n",
              "    }\n",
              "\n",
              "    [theme=dark] .colab-df-convert {\n",
              "      background-color: #3B4455;\n",
              "      fill: #D2E3FC;\n",
              "    }\n",
              "\n",
              "    [theme=dark] .colab-df-convert:hover {\n",
              "      background-color: #434B5C;\n",
              "      box-shadow: 0px 1px 3px 1px rgba(0, 0, 0, 0.15);\n",
              "      filter: drop-shadow(0px 1px 2px rgba(0, 0, 0, 0.3));\n",
              "      fill: #FFFFFF;\n",
              "    }\n",
              "  </style>\n",
              "\n",
              "    <script>\n",
              "      const buttonEl =\n",
              "        document.querySelector('#df-363905be-df82-49ef-aa99-642fedf00514 button.colab-df-convert');\n",
              "      buttonEl.style.display =\n",
              "        google.colab.kernel.accessAllowed ? 'block' : 'none';\n",
              "\n",
              "      async function convertToInteractive(key) {\n",
              "        const element = document.querySelector('#df-363905be-df82-49ef-aa99-642fedf00514');\n",
              "        const dataTable =\n",
              "          await google.colab.kernel.invokeFunction('convertToInteractive',\n",
              "                                                    [key], {});\n",
              "        if (!dataTable) return;\n",
              "\n",
              "        const docLinkHtml = 'Like what you see? Visit the ' +\n",
              "          '<a target=\"_blank\" href=https://colab.research.google.com/notebooks/data_table.ipynb>data table notebook</a>'\n",
              "          + ' to learn more about interactive tables.';\n",
              "        element.innerHTML = '';\n",
              "        dataTable['output_type'] = 'display_data';\n",
              "        await google.colab.output.renderOutput(dataTable, element);\n",
              "        const docLink = document.createElement('div');\n",
              "        docLink.innerHTML = docLinkHtml;\n",
              "        element.appendChild(docLink);\n",
              "      }\n",
              "    </script>\n",
              "  </div>\n",
              "\n",
              "\n",
              "<div id=\"df-eeaa5625-f482-47be-a2f3-f8d43adf8cca\">\n",
              "  <button class=\"colab-df-quickchart\" onclick=\"quickchart('df-eeaa5625-f482-47be-a2f3-f8d43adf8cca')\"\n",
              "            title=\"Suggest charts\"\n",
              "            style=\"display:none;\">\n",
              "\n",
              "<svg xmlns=\"http://www.w3.org/2000/svg\" height=\"24px\"viewBox=\"0 0 24 24\"\n",
              "     width=\"24px\">\n",
              "    <g>\n",
              "        <path d=\"M19 3H5c-1.1 0-2 .9-2 2v14c0 1.1.9 2 2 2h14c1.1 0 2-.9 2-2V5c0-1.1-.9-2-2-2zM9 17H7v-7h2v7zm4 0h-2V7h2v10zm4 0h-2v-4h2v4z\"/>\n",
              "    </g>\n",
              "</svg>\n",
              "  </button>\n",
              "\n",
              "<style>\n",
              "  .colab-df-quickchart {\n",
              "      --bg-color: #E8F0FE;\n",
              "      --fill-color: #1967D2;\n",
              "      --hover-bg-color: #E2EBFA;\n",
              "      --hover-fill-color: #174EA6;\n",
              "      --disabled-fill-color: #AAA;\n",
              "      --disabled-bg-color: #DDD;\n",
              "  }\n",
              "\n",
              "  [theme=dark] .colab-df-quickchart {\n",
              "      --bg-color: #3B4455;\n",
              "      --fill-color: #D2E3FC;\n",
              "      --hover-bg-color: #434B5C;\n",
              "      --hover-fill-color: #FFFFFF;\n",
              "      --disabled-bg-color: #3B4455;\n",
              "      --disabled-fill-color: #666;\n",
              "  }\n",
              "\n",
              "  .colab-df-quickchart {\n",
              "    background-color: var(--bg-color);\n",
              "    border: none;\n",
              "    border-radius: 50%;\n",
              "    cursor: pointer;\n",
              "    display: none;\n",
              "    fill: var(--fill-color);\n",
              "    height: 32px;\n",
              "    padding: 0;\n",
              "    width: 32px;\n",
              "  }\n",
              "\n",
              "  .colab-df-quickchart:hover {\n",
              "    background-color: var(--hover-bg-color);\n",
              "    box-shadow: 0 1px 2px rgba(60, 64, 67, 0.3), 0 1px 3px 1px rgba(60, 64, 67, 0.15);\n",
              "    fill: var(--button-hover-fill-color);\n",
              "  }\n",
              "\n",
              "  .colab-df-quickchart-complete:disabled,\n",
              "  .colab-df-quickchart-complete:disabled:hover {\n",
              "    background-color: var(--disabled-bg-color);\n",
              "    fill: var(--disabled-fill-color);\n",
              "    box-shadow: none;\n",
              "  }\n",
              "\n",
              "  .colab-df-spinner {\n",
              "    border: 2px solid var(--fill-color);\n",
              "    border-color: transparent;\n",
              "    border-bottom-color: var(--fill-color);\n",
              "    animation:\n",
              "      spin 1s steps(1) infinite;\n",
              "  }\n",
              "\n",
              "  @keyframes spin {\n",
              "    0% {\n",
              "      border-color: transparent;\n",
              "      border-bottom-color: var(--fill-color);\n",
              "      border-left-color: var(--fill-color);\n",
              "    }\n",
              "    20% {\n",
              "      border-color: transparent;\n",
              "      border-left-color: var(--fill-color);\n",
              "      border-top-color: var(--fill-color);\n",
              "    }\n",
              "    30% {\n",
              "      border-color: transparent;\n",
              "      border-left-color: var(--fill-color);\n",
              "      border-top-color: var(--fill-color);\n",
              "      border-right-color: var(--fill-color);\n",
              "    }\n",
              "    40% {\n",
              "      border-color: transparent;\n",
              "      border-right-color: var(--fill-color);\n",
              "      border-top-color: var(--fill-color);\n",
              "    }\n",
              "    60% {\n",
              "      border-color: transparent;\n",
              "      border-right-color: var(--fill-color);\n",
              "    }\n",
              "    80% {\n",
              "      border-color: transparent;\n",
              "      border-right-color: var(--fill-color);\n",
              "      border-bottom-color: var(--fill-color);\n",
              "    }\n",
              "    90% {\n",
              "      border-color: transparent;\n",
              "      border-bottom-color: var(--fill-color);\n",
              "    }\n",
              "  }\n",
              "</style>\n",
              "\n",
              "  <script>\n",
              "    async function quickchart(key) {\n",
              "      const quickchartButtonEl =\n",
              "        document.querySelector('#' + key + ' button');\n",
              "      quickchartButtonEl.disabled = true;  // To prevent multiple clicks.\n",
              "      quickchartButtonEl.classList.add('colab-df-spinner');\n",
              "      try {\n",
              "        const charts = await google.colab.kernel.invokeFunction(\n",
              "            'suggestCharts', [key], {});\n",
              "      } catch (error) {\n",
              "        console.error('Error during call to suggestCharts:', error);\n",
              "      }\n",
              "      quickchartButtonEl.classList.remove('colab-df-spinner');\n",
              "      quickchartButtonEl.classList.add('colab-df-quickchart-complete');\n",
              "    }\n",
              "    (() => {\n",
              "      let quickchartButtonEl =\n",
              "        document.querySelector('#df-eeaa5625-f482-47be-a2f3-f8d43adf8cca button');\n",
              "      quickchartButtonEl.style.display =\n",
              "        google.colab.kernel.accessAllowed ? 'block' : 'none';\n",
              "    })();\n",
              "  </script>\n",
              "</div>\n",
              "\n",
              "    </div>\n",
              "  </div>\n"
            ],
            "application/vnd.google.colaboratory.intrinsic+json": {
              "type": "dataframe",
              "repr_error": "0"
            }
          },
          "metadata": {},
          "execution_count": 5
        }
      ]
    },
    {
      "cell_type": "code",
      "source": [
        "nlp = spacy.load(\"pt_core_news_sm\")\n",
        "#nlp = pt_core_news_sm.load()\n",
        "#doc = nlp(\"Esta é uma frase.\")\n",
        "#print([(w.text, w.pos_) for w in doc])"
      ],
      "metadata": {
        "id": "pWFeTNDf10IJ"
      },
      "execution_count": null,
      "outputs": []
    },
    {
      "cell_type": "markdown",
      "source": [
        "Exploração"
      ],
      "metadata": {
        "id": "l5p_rOhX8UaV"
      }
    },
    {
      "cell_type": "code",
      "source": [
        "texto = 'Rio de Janeiro 123 @@ é uma## cidade maravilhosa'\n",
        "doc = nlp(texto)"
      ],
      "metadata": {
        "id": "0RmqRgZe5y_f"
      },
      "execution_count": null,
      "outputs": []
    },
    {
      "cell_type": "code",
      "source": [
        "type(doc)"
      ],
      "metadata": {
        "colab": {
          "base_uri": "https://localhost:8080/"
        },
        "id": "599a_Hj16bGc",
        "outputId": "c399498d-4295-450c-d7f5-2929bdc83602"
      },
      "execution_count": null,
      "outputs": [
        {
          "output_type": "execute_result",
          "data": {
            "text/plain": [
              "spacy.tokens.doc.Doc"
            ]
          },
          "metadata": {},
          "execution_count": 8
        }
      ]
    },
    {
      "cell_type": "code",
      "source": [
        "doc[0]"
      ],
      "metadata": {
        "colab": {
          "base_uri": "https://localhost:8080/"
        },
        "id": "PxC6YAp66hqT",
        "outputId": "00c212c9-1e23-4f02-f2c6-ee98f19212ad"
      },
      "execution_count": null,
      "outputs": [
        {
          "output_type": "execute_result",
          "data": {
            "text/plain": [
              "Rio"
            ]
          },
          "metadata": {},
          "execution_count": 9
        }
      ]
    },
    {
      "cell_type": "code",
      "source": [
        "type(doc[0])"
      ],
      "metadata": {
        "colab": {
          "base_uri": "https://localhost:8080/"
        },
        "id": "6zsl3U6A7F5Y",
        "outputId": "76639492-59e5-4707-f127-3122207fd53d"
      },
      "execution_count": null,
      "outputs": [
        {
          "output_type": "execute_result",
          "data": {
            "text/plain": [
              "spacy.tokens.token.Token"
            ]
          },
          "metadata": {},
          "execution_count": 10
        }
      ]
    },
    {
      "cell_type": "code",
      "source": [
        "doc.ents"
      ],
      "metadata": {
        "colab": {
          "base_uri": "https://localhost:8080/"
        },
        "id": "gJ29z_ZW7Hau",
        "outputId": "2bb71e44-78c8-4356-e324-c9b4c5ce4ef7"
      },
      "execution_count": null,
      "outputs": [
        {
          "output_type": "execute_result",
          "data": {
            "text/plain": [
              "(Rio de Janeiro, @@)"
            ]
          },
          "metadata": {},
          "execution_count": 11
        }
      ]
    },
    {
      "cell_type": "code",
      "source": [
        "doc[0].is_stop"
      ],
      "metadata": {
        "colab": {
          "base_uri": "https://localhost:8080/"
        },
        "id": "G0CE18y67OGv",
        "outputId": "7a10c286-9d91-4fa7-dea4-771f6450a5ef"
      },
      "execution_count": null,
      "outputs": [
        {
          "output_type": "execute_result",
          "data": {
            "text/plain": [
              "False"
            ]
          },
          "metadata": {},
          "execution_count": 12
        }
      ]
    },
    {
      "cell_type": "code",
      "source": [
        "doc[1].is_stop"
      ],
      "metadata": {
        "colab": {
          "base_uri": "https://localhost:8080/"
        },
        "id": "CYns_EDz7TT1",
        "outputId": "449d023e-b608-43b3-897c-ec81fd2f2c92"
      },
      "execution_count": null,
      "outputs": [
        {
          "output_type": "execute_result",
          "data": {
            "text/plain": [
              "True"
            ]
          },
          "metadata": {},
          "execution_count": 13
        }
      ]
    },
    {
      "cell_type": "markdown",
      "source": [
        "Tratamento"
      ],
      "metadata": {
        "id": "cT-B2F068Wqy"
      }
    },
    {
      "cell_type": "code",
      "source": [
        "textos_para_tratamento = (titulos.lower() for titulos in dados_treino['title'])"
      ],
      "metadata": {
        "id": "LJ5hL5IuNoGT"
      },
      "execution_count": null,
      "outputs": []
    },
    {
      "cell_type": "code",
      "source": [
        "def trata_textos(doc):\n",
        "    tokens_validos = []\n",
        "    for token in doc:\n",
        "        e_valido = not token.is_stop and token.is_alpha\n",
        "        if e_valido:\n",
        "            tokens_validos.append(token.text)\n",
        "    if len(tokens_validos) > 2:\n",
        "        return ' '.join(tokens_validos)"
      ],
      "metadata": {
        "id": "oF57zNkhNhTw"
      },
      "execution_count": null,
      "outputs": []
    },
    {
      "cell_type": "code",
      "source": [
        "trata_textos(doc)"
      ],
      "metadata": {
        "colab": {
          "base_uri": "https://localhost:8080/",
          "height": 36
        },
        "id": "cOxDzYKtPrLw",
        "outputId": "b63e37b2-7e74-4875-814d-6e25262ce6f8"
      },
      "execution_count": null,
      "outputs": [
        {
          "output_type": "execute_result",
          "data": {
            "text/plain": [
              "'Rio Janeiro cidade maravilhosa'"
            ],
            "application/vnd.google.colaboratory.intrinsic+json": {
              "type": "string"
            }
          },
          "metadata": {},
          "execution_count": 16
        }
      ]
    },
    {
      "cell_type": "code",
      "source": [
        "type(nlp)"
      ],
      "metadata": {
        "colab": {
          "base_uri": "https://localhost:8080/",
          "height": 204
        },
        "id": "_UmnT0qmSODa",
        "outputId": "8ccb80e6-537c-4564-c3ca-1a15eaae2f8e"
      },
      "execution_count": null,
      "outputs": [
        {
          "output_type": "execute_result",
          "data": {
            "text/plain": [
              "spacy.lang.pt.Portuguese"
            ],
            "text/html": [
              "<div style=\"max-width:800px; border: 1px solid var(--colab-border-color);\"><style>\n",
              "      pre.function-repr-contents {\n",
              "        overflow-x: auto;\n",
              "        padding: 8px 12px;\n",
              "        max-height: 500px;\n",
              "      }\n",
              "\n",
              "      pre.function-repr-contents.function-repr-contents-collapsed {\n",
              "        cursor: pointer;\n",
              "        max-height: 100px;\n",
              "      }\n",
              "    </style>\n",
              "    <pre style=\"white-space: initial; background:\n",
              "         var(--colab-secondary-surface-color); padding: 8px 12px;\n",
              "         border-bottom: 1px solid var(--colab-border-color);\"><b>spacy.lang.pt.Portuguese</b><br/>def __call__(text: Union[str, Doc], *, disable: Iterable[str]=SimpleFrozenList(), component_cfg: Optional[Dict[str, Dict[str, Any]]]=None) -&gt; Doc</pre><pre class=\"function-repr-contents function-repr-contents-collapsed\" style=\"\"><a class=\"filepath\" style=\"display:none\" href=\"#\">/usr/local/lib/python3.10/dist-packages/spacy/lang/pt/__init__.py</a>A text-processing pipeline. Usually you&#x27;ll load this once per process,\n",
              "and pass the instance around your application.\n",
              "\n",
              "Defaults (class): Settings, data and factory methods for creating the `nlp`\n",
              "    object and processing pipeline.\n",
              "lang (str): IETF language code, such as &#x27;en&#x27;.\n",
              "\n",
              "DOCS: https://spacy.io/api/language</pre>\n",
              "      <script>\n",
              "      if (google.colab.kernel.accessAllowed && google.colab.files && google.colab.files.view) {\n",
              "        for (const element of document.querySelectorAll('.filepath')) {\n",
              "          element.style.display = 'block'\n",
              "          element.onclick = (event) => {\n",
              "            event.preventDefault();\n",
              "            event.stopPropagation();\n",
              "            google.colab.files.view(element.textContent, 18);\n",
              "          };\n",
              "        }\n",
              "      }\n",
              "      for (const element of document.querySelectorAll('.function-repr-contents')) {\n",
              "        element.onclick = (event) => {\n",
              "          event.preventDefault();\n",
              "          event.stopPropagation();\n",
              "          element.classList.toggle('function-repr-contents-collapsed');\n",
              "        };\n",
              "      }\n",
              "      </script>\n",
              "      </div>"
            ]
          },
          "metadata": {},
          "execution_count": 17
        }
      ]
    },
    {
      "cell_type": "code",
      "source": [
        "from time import time\n",
        "t0=time()\n",
        "textos_tratados = [trata_textos(doc) for doc in nlp.pipe(textos_para_tratamento, batch_size=1000, n_process=-1)]\n",
        "t1=time()\n",
        "print((t1-t0)/60)"
      ],
      "metadata": {
        "id": "965WHl1i7VuN",
        "colab": {
          "base_uri": "https://localhost:8080/"
        },
        "outputId": "0cae16e0-c8db-47bd-84c9-14325d08db25"
      },
      "execution_count": null,
      "outputs": [
        {
          "output_type": "stream",
          "name": "stdout",
          "text": [
            "4.920016213258108\n"
          ]
        }
      ]
    },
    {
      "cell_type": "code",
      "source": [
        "#ps.: Célula anterior demorando, em média, 5 min na minha máquina."
      ],
      "metadata": {
        "id": "JqdLaLWYV_U8"
      },
      "execution_count": null,
      "outputs": []
    },
    {
      "cell_type": "code",
      "source": [
        "titulos_tratados = pd.DataFrame({'titulo':textos_tratados})\n",
        "titulos_tratados.head()"
      ],
      "metadata": {
        "colab": {
          "base_uri": "https://localhost:8080/",
          "height": 206
        },
        "id": "mw9QbAwZTPMc",
        "outputId": "1c946d8f-5e70-4ddb-cc77-4a22b5ba34ae"
      },
      "execution_count": null,
      "outputs": [
        {
          "output_type": "execute_result",
          "data": {
            "text/plain": [
              "                                              titulo\n",
              "0  polêmica marine le pen abomina negacionistas h...\n",
              "1  macron le pen turno frança revés siglas tradic...\n",
              "2  apesar larga vitória legislativas macron terá ...\n",
              "3  governo antecipa balanço alckmin anuncia queda...\n",
              "4       queda maio atividade econômica sobe junho bc"
            ],
            "text/html": [
              "\n",
              "  <div id=\"df-e4cd99ad-5a09-461c-9f3c-3c384e062977\" class=\"colab-df-container\">\n",
              "    <div>\n",
              "<style scoped>\n",
              "    .dataframe tbody tr th:only-of-type {\n",
              "        vertical-align: middle;\n",
              "    }\n",
              "\n",
              "    .dataframe tbody tr th {\n",
              "        vertical-align: top;\n",
              "    }\n",
              "\n",
              "    .dataframe thead th {\n",
              "        text-align: right;\n",
              "    }\n",
              "</style>\n",
              "<table border=\"1\" class=\"dataframe\">\n",
              "  <thead>\n",
              "    <tr style=\"text-align: right;\">\n",
              "      <th></th>\n",
              "      <th>titulo</th>\n",
              "    </tr>\n",
              "  </thead>\n",
              "  <tbody>\n",
              "    <tr>\n",
              "      <th>0</th>\n",
              "      <td>polêmica marine le pen abomina negacionistas h...</td>\n",
              "    </tr>\n",
              "    <tr>\n",
              "      <th>1</th>\n",
              "      <td>macron le pen turno frança revés siglas tradic...</td>\n",
              "    </tr>\n",
              "    <tr>\n",
              "      <th>2</th>\n",
              "      <td>apesar larga vitória legislativas macron terá ...</td>\n",
              "    </tr>\n",
              "    <tr>\n",
              "      <th>3</th>\n",
              "      <td>governo antecipa balanço alckmin anuncia queda...</td>\n",
              "    </tr>\n",
              "    <tr>\n",
              "      <th>4</th>\n",
              "      <td>queda maio atividade econômica sobe junho bc</td>\n",
              "    </tr>\n",
              "  </tbody>\n",
              "</table>\n",
              "</div>\n",
              "    <div class=\"colab-df-buttons\">\n",
              "\n",
              "  <div class=\"colab-df-container\">\n",
              "    <button class=\"colab-df-convert\" onclick=\"convertToInteractive('df-e4cd99ad-5a09-461c-9f3c-3c384e062977')\"\n",
              "            title=\"Convert this dataframe to an interactive table.\"\n",
              "            style=\"display:none;\">\n",
              "\n",
              "  <svg xmlns=\"http://www.w3.org/2000/svg\" height=\"24px\" viewBox=\"0 -960 960 960\">\n",
              "    <path d=\"M120-120v-720h720v720H120Zm60-500h600v-160H180v160Zm220 220h160v-160H400v160Zm0 220h160v-160H400v160ZM180-400h160v-160H180v160Zm440 0h160v-160H620v160ZM180-180h160v-160H180v160Zm440 0h160v-160H620v160Z\"/>\n",
              "  </svg>\n",
              "    </button>\n",
              "\n",
              "  <style>\n",
              "    .colab-df-container {\n",
              "      display:flex;\n",
              "      gap: 12px;\n",
              "    }\n",
              "\n",
              "    .colab-df-convert {\n",
              "      background-color: #E8F0FE;\n",
              "      border: none;\n",
              "      border-radius: 50%;\n",
              "      cursor: pointer;\n",
              "      display: none;\n",
              "      fill: #1967D2;\n",
              "      height: 32px;\n",
              "      padding: 0 0 0 0;\n",
              "      width: 32px;\n",
              "    }\n",
              "\n",
              "    .colab-df-convert:hover {\n",
              "      background-color: #E2EBFA;\n",
              "      box-shadow: 0px 1px 2px rgba(60, 64, 67, 0.3), 0px 1px 3px 1px rgba(60, 64, 67, 0.15);\n",
              "      fill: #174EA6;\n",
              "    }\n",
              "\n",
              "    .colab-df-buttons div {\n",
              "      margin-bottom: 4px;\n",
              "    }\n",
              "\n",
              "    [theme=dark] .colab-df-convert {\n",
              "      background-color: #3B4455;\n",
              "      fill: #D2E3FC;\n",
              "    }\n",
              "\n",
              "    [theme=dark] .colab-df-convert:hover {\n",
              "      background-color: #434B5C;\n",
              "      box-shadow: 0px 1px 3px 1px rgba(0, 0, 0, 0.15);\n",
              "      filter: drop-shadow(0px 1px 2px rgba(0, 0, 0, 0.3));\n",
              "      fill: #FFFFFF;\n",
              "    }\n",
              "  </style>\n",
              "\n",
              "    <script>\n",
              "      const buttonEl =\n",
              "        document.querySelector('#df-e4cd99ad-5a09-461c-9f3c-3c384e062977 button.colab-df-convert');\n",
              "      buttonEl.style.display =\n",
              "        google.colab.kernel.accessAllowed ? 'block' : 'none';\n",
              "\n",
              "      async function convertToInteractive(key) {\n",
              "        const element = document.querySelector('#df-e4cd99ad-5a09-461c-9f3c-3c384e062977');\n",
              "        const dataTable =\n",
              "          await google.colab.kernel.invokeFunction('convertToInteractive',\n",
              "                                                    [key], {});\n",
              "        if (!dataTable) return;\n",
              "\n",
              "        const docLinkHtml = 'Like what you see? Visit the ' +\n",
              "          '<a target=\"_blank\" href=https://colab.research.google.com/notebooks/data_table.ipynb>data table notebook</a>'\n",
              "          + ' to learn more about interactive tables.';\n",
              "        element.innerHTML = '';\n",
              "        dataTable['output_type'] = 'display_data';\n",
              "        await google.colab.output.renderOutput(dataTable, element);\n",
              "        const docLink = document.createElement('div');\n",
              "        docLink.innerHTML = docLinkHtml;\n",
              "        element.appendChild(docLink);\n",
              "      }\n",
              "    </script>\n",
              "  </div>\n",
              "\n",
              "\n",
              "<div id=\"df-6b5bb84a-155a-4135-9e84-828808c47d9b\">\n",
              "  <button class=\"colab-df-quickchart\" onclick=\"quickchart('df-6b5bb84a-155a-4135-9e84-828808c47d9b')\"\n",
              "            title=\"Suggest charts\"\n",
              "            style=\"display:none;\">\n",
              "\n",
              "<svg xmlns=\"http://www.w3.org/2000/svg\" height=\"24px\"viewBox=\"0 0 24 24\"\n",
              "     width=\"24px\">\n",
              "    <g>\n",
              "        <path d=\"M19 3H5c-1.1 0-2 .9-2 2v14c0 1.1.9 2 2 2h14c1.1 0 2-.9 2-2V5c0-1.1-.9-2-2-2zM9 17H7v-7h2v7zm4 0h-2V7h2v10zm4 0h-2v-4h2v4z\"/>\n",
              "    </g>\n",
              "</svg>\n",
              "  </button>\n",
              "\n",
              "<style>\n",
              "  .colab-df-quickchart {\n",
              "      --bg-color: #E8F0FE;\n",
              "      --fill-color: #1967D2;\n",
              "      --hover-bg-color: #E2EBFA;\n",
              "      --hover-fill-color: #174EA6;\n",
              "      --disabled-fill-color: #AAA;\n",
              "      --disabled-bg-color: #DDD;\n",
              "  }\n",
              "\n",
              "  [theme=dark] .colab-df-quickchart {\n",
              "      --bg-color: #3B4455;\n",
              "      --fill-color: #D2E3FC;\n",
              "      --hover-bg-color: #434B5C;\n",
              "      --hover-fill-color: #FFFFFF;\n",
              "      --disabled-bg-color: #3B4455;\n",
              "      --disabled-fill-color: #666;\n",
              "  }\n",
              "\n",
              "  .colab-df-quickchart {\n",
              "    background-color: var(--bg-color);\n",
              "    border: none;\n",
              "    border-radius: 50%;\n",
              "    cursor: pointer;\n",
              "    display: none;\n",
              "    fill: var(--fill-color);\n",
              "    height: 32px;\n",
              "    padding: 0;\n",
              "    width: 32px;\n",
              "  }\n",
              "\n",
              "  .colab-df-quickchart:hover {\n",
              "    background-color: var(--hover-bg-color);\n",
              "    box-shadow: 0 1px 2px rgba(60, 64, 67, 0.3), 0 1px 3px 1px rgba(60, 64, 67, 0.15);\n",
              "    fill: var(--button-hover-fill-color);\n",
              "  }\n",
              "\n",
              "  .colab-df-quickchart-complete:disabled,\n",
              "  .colab-df-quickchart-complete:disabled:hover {\n",
              "    background-color: var(--disabled-bg-color);\n",
              "    fill: var(--disabled-fill-color);\n",
              "    box-shadow: none;\n",
              "  }\n",
              "\n",
              "  .colab-df-spinner {\n",
              "    border: 2px solid var(--fill-color);\n",
              "    border-color: transparent;\n",
              "    border-bottom-color: var(--fill-color);\n",
              "    animation:\n",
              "      spin 1s steps(1) infinite;\n",
              "  }\n",
              "\n",
              "  @keyframes spin {\n",
              "    0% {\n",
              "      border-color: transparent;\n",
              "      border-bottom-color: var(--fill-color);\n",
              "      border-left-color: var(--fill-color);\n",
              "    }\n",
              "    20% {\n",
              "      border-color: transparent;\n",
              "      border-left-color: var(--fill-color);\n",
              "      border-top-color: var(--fill-color);\n",
              "    }\n",
              "    30% {\n",
              "      border-color: transparent;\n",
              "      border-left-color: var(--fill-color);\n",
              "      border-top-color: var(--fill-color);\n",
              "      border-right-color: var(--fill-color);\n",
              "    }\n",
              "    40% {\n",
              "      border-color: transparent;\n",
              "      border-right-color: var(--fill-color);\n",
              "      border-top-color: var(--fill-color);\n",
              "    }\n",
              "    60% {\n",
              "      border-color: transparent;\n",
              "      border-right-color: var(--fill-color);\n",
              "    }\n",
              "    80% {\n",
              "      border-color: transparent;\n",
              "      border-right-color: var(--fill-color);\n",
              "      border-bottom-color: var(--fill-color);\n",
              "    }\n",
              "    90% {\n",
              "      border-color: transparent;\n",
              "      border-bottom-color: var(--fill-color);\n",
              "    }\n",
              "  }\n",
              "</style>\n",
              "\n",
              "  <script>\n",
              "    async function quickchart(key) {\n",
              "      const quickchartButtonEl =\n",
              "        document.querySelector('#' + key + ' button');\n",
              "      quickchartButtonEl.disabled = true;  // To prevent multiple clicks.\n",
              "      quickchartButtonEl.classList.add('colab-df-spinner');\n",
              "      try {\n",
              "        const charts = await google.colab.kernel.invokeFunction(\n",
              "            'suggestCharts', [key], {});\n",
              "      } catch (error) {\n",
              "        console.error('Error during call to suggestCharts:', error);\n",
              "      }\n",
              "      quickchartButtonEl.classList.remove('colab-df-spinner');\n",
              "      quickchartButtonEl.classList.add('colab-df-quickchart-complete');\n",
              "    }\n",
              "    (() => {\n",
              "      let quickchartButtonEl =\n",
              "        document.querySelector('#df-6b5bb84a-155a-4135-9e84-828808c47d9b button');\n",
              "      quickchartButtonEl.style.display =\n",
              "        google.colab.kernel.accessAllowed ? 'block' : 'none';\n",
              "    })();\n",
              "  </script>\n",
              "</div>\n",
              "\n",
              "    </div>\n",
              "  </div>\n"
            ],
            "application/vnd.google.colaboratory.intrinsic+json": {
              "type": "dataframe",
              "variable_name": "titulos_tratados",
              "summary": "{\n  \"name\": \"titulos_tratados\",\n  \"rows\": 90000,\n  \"fields\": [\n    {\n      \"column\": \"titulo\",\n      \"properties\": {\n        \"dtype\": \"string\",\n        \"num_unique_values\": 84466,\n        \"samples\": [\n          \"brasil chega recorde medalhas meta cob dif\\u00edcil alcan\\u00e7ada\",\n          \"kristen wiig melissa mccarthy trailer\",\n          \"ningu\\u00e9m barriga aluguel praticidade tet\\u00e9 ribeiro\"\n        ],\n        \"semantic_type\": \"\",\n        \"description\": \"\"\n      }\n    }\n  ]\n}"
            }
          },
          "metadata": {},
          "execution_count": 20
        }
      ]
    },
    {
      "cell_type": "code",
      "source": [
        "from gensim.models import Word2Vec\n",
        "\n",
        "#Quando sg=0, treino modelo com arquitetura cbow. Quando sg=1 treino com skipgrams.\n",
        "#Parametro window é o range de contexto, para frente e para trás.\n",
        "\n",
        "'''w2v_modelo = Word2Vec(sg=0,\n",
        "                      window=2,\n",
        "                      vector_size=300,\n",
        "                      min_count=5,\n",
        "                      alpha=0.03,\n",
        "                      min_alpha=0.0007)'''"
      ],
      "metadata": {
        "colab": {
          "base_uri": "https://localhost:8080/",
          "height": 53
        },
        "id": "gxs5Ec_TWG7E",
        "outputId": "8d2207b1-08e4-4789-aaf8-c65babf2db90"
      },
      "execution_count": null,
      "outputs": [
        {
          "output_type": "execute_result",
          "data": {
            "text/plain": [
              "'w2v_modelo = Word2Vec(sg=0,\\n                      window=2,\\n                      vector_size=300,\\n                      min_count=5,\\n                      alpha=0.03,\\n                      min_alpha=0.0007)'"
            ],
            "application/vnd.google.colaboratory.intrinsic+json": {
              "type": "string"
            }
          },
          "metadata": {},
          "execution_count": 21
        }
      ]
    },
    {
      "cell_type": "code",
      "source": [
        "#w2v_modelo"
      ],
      "metadata": {
        "id": "z42unCXvZbSB"
      },
      "execution_count": null,
      "outputs": []
    },
    {
      "cell_type": "code",
      "source": [
        "print(len(titulos_tratados))"
      ],
      "metadata": {
        "colab": {
          "base_uri": "https://localhost:8080/"
        },
        "id": "Ewjm5vEbaoFx",
        "outputId": "6d613233-3ba1-4e58-efb6-48021a9ca269"
      },
      "execution_count": null,
      "outputs": [
        {
          "output_type": "stream",
          "name": "stdout",
          "text": [
            "90000\n"
          ]
        }
      ]
    },
    {
      "cell_type": "code",
      "source": [
        "titulos_tratados = titulos_tratados.dropna().drop_duplicates()\n",
        "print(len(titulos_tratados))"
      ],
      "metadata": {
        "colab": {
          "base_uri": "https://localhost:8080/"
        },
        "id": "meWafvRJawOO",
        "outputId": "1d8eb4c1-6245-4097-d860-205c19f89d40"
      },
      "execution_count": null,
      "outputs": [
        {
          "output_type": "stream",
          "name": "stdout",
          "text": [
            "84466\n"
          ]
        }
      ]
    },
    {
      "cell_type": "code",
      "source": [
        "lista_lista_tokens = [titulo.split(' ') for titulo in titulos_tratados.titulo]"
      ],
      "metadata": {
        "id": "RlPoy6ScamUl"
      },
      "execution_count": null,
      "outputs": []
    },
    {
      "cell_type": "code",
      "source": [
        "from gensim.models.callbacks import CallbackAny2Vec\n",
        "\n",
        "class callback(CallbackAny2Vec):\n",
        "    def __init__(self):\n",
        "       self.epoch = 0\n",
        "\n",
        "    def on_epoch_end(self, model):\n",
        "       loss = model.get_latest_training_loss()\n",
        "       if self.epoch == 0:\n",
        "           print('Loss após a época {}: {}'.format(self.epoch, loss))\n",
        "       else:\n",
        "           print('Loss após a época {}: {}'.format(self.epoch, loss- self.loss_previous_step))\n",
        "       self.epoch += 1\n",
        "       self.loss_previous_step = loss"
      ],
      "metadata": {
        "id": "bJunRKrCxDRC"
      },
      "execution_count": null,
      "outputs": []
    },
    {
      "cell_type": "code",
      "source": [
        "import logging\n",
        "logging.getLogger().setLevel(logging.DEBUG)\n",
        "logging.basicConfig(format='%(asctime)s : %(message)s', level=logging.INFO)\n",
        "\n",
        "w2v_modelo = Word2Vec(sg=0,\n",
        "                      window=2,\n",
        "                      vector_size=300,\n",
        "                      min_count=5,\n",
        "                      alpha=0.03,\n",
        "                      min_alpha=0.0007)\n",
        "\n",
        "w2v_modelo.build_vocab(lista_lista_tokens, progress_per=5000)"
      ],
      "metadata": {
        "colab": {
          "base_uri": "https://localhost:8080/"
        },
        "id": "3v3-ami3Zdy4",
        "outputId": "2700c4b8-5f15-4dcf-cbdc-0ab15bb1fa3a"
      },
      "execution_count": null,
      "outputs": [
        {
          "output_type": "stream",
          "name": "stderr",
          "text": [
            "DEBUG:gensim.utils:starting a new internal lifecycle event log for Word2Vec\n",
            "INFO:gensim.utils:Word2Vec lifecycle event {'params': 'Word2Vec<vocab=0, vector_size=300, alpha=0.03>', 'datetime': '2024-07-10T12:09:44.978796', 'gensim': '4.3.2', 'python': '3.10.12 (main, Nov 20 2023, 15:14:05) [GCC 11.4.0]', 'platform': 'Linux-6.1.85+-x86_64-with-glibc2.35', 'event': 'created'}\n",
            "INFO:gensim.models.word2vec:collecting all words and their counts\n",
            "INFO:gensim.models.word2vec:PROGRESS: at sentence #0, processed 0 words, keeping 0 word types\n",
            "INFO:gensim.models.word2vec:PROGRESS: at sentence #5000, processed 31930 words, keeping 10193 word types\n",
            "INFO:gensim.models.word2vec:PROGRESS: at sentence #10000, processed 63848 words, keeping 14989 word types\n",
            "INFO:gensim.models.word2vec:PROGRESS: at sentence #15000, processed 95753 words, keeping 18279 word types\n",
            "INFO:gensim.models.word2vec:PROGRESS: at sentence #20000, processed 127689 words, keeping 21033 word types\n",
            "INFO:gensim.models.word2vec:PROGRESS: at sentence #25000, processed 159589 words, keeping 23491 word types\n",
            "INFO:gensim.models.word2vec:PROGRESS: at sentence #30000, processed 191554 words, keeping 25494 word types\n",
            "INFO:gensim.models.word2vec:PROGRESS: at sentence #35000, processed 223412 words, keeping 27330 word types\n",
            "INFO:gensim.models.word2vec:PROGRESS: at sentence #40000, processed 255282 words, keeping 29053 word types\n",
            "INFO:gensim.models.word2vec:PROGRESS: at sentence #45000, processed 287297 words, keeping 30606 word types\n",
            "INFO:gensim.models.word2vec:PROGRESS: at sentence #50000, processed 319258 words, keeping 31964 word types\n",
            "INFO:gensim.models.word2vec:PROGRESS: at sentence #55000, processed 351437 words, keeping 33270 word types\n",
            "INFO:gensim.models.word2vec:PROGRESS: at sentence #60000, processed 383579 words, keeping 34520 word types\n",
            "INFO:gensim.models.word2vec:PROGRESS: at sentence #65000, processed 415565 words, keeping 35643 word types\n",
            "INFO:gensim.models.word2vec:PROGRESS: at sentence #70000, processed 447646 words, keeping 36719 word types\n",
            "INFO:gensim.models.word2vec:PROGRESS: at sentence #75000, processed 479568 words, keeping 37802 word types\n",
            "INFO:gensim.models.word2vec:PROGRESS: at sentence #80000, processed 511645 words, keeping 38814 word types\n",
            "INFO:gensim.models.word2vec:collected 39693 word types from a corpus of 540242 raw words and 84466 sentences\n",
            "INFO:gensim.models.word2vec:Creating a fresh vocabulary\n",
            "INFO:gensim.utils:Word2Vec lifecycle event {'msg': 'effective_min_count=5 retains 12924 unique words (32.56% of original 39693, drops 26769)', 'datetime': '2024-07-10T12:09:45.370848', 'gensim': '4.3.2', 'python': '3.10.12 (main, Nov 20 2023, 15:14:05) [GCC 11.4.0]', 'platform': 'Linux-6.1.85+-x86_64-with-glibc2.35', 'event': 'prepare_vocab'}\n",
            "INFO:gensim.utils:Word2Vec lifecycle event {'msg': 'effective_min_count=5 leaves 495223 word corpus (91.67% of original 540242, drops 45019)', 'datetime': '2024-07-10T12:09:45.372573', 'gensim': '4.3.2', 'python': '3.10.12 (main, Nov 20 2023, 15:14:05) [GCC 11.4.0]', 'platform': 'Linux-6.1.85+-x86_64-with-glibc2.35', 'event': 'prepare_vocab'}\n",
            "INFO:gensim.models.word2vec:deleting the raw counts dictionary of 39693 items\n",
            "INFO:gensim.models.word2vec:sample=0.001 downsamples 8 most-common words\n",
            "INFO:gensim.utils:Word2Vec lifecycle event {'msg': 'downsampling leaves estimated 486147.7552334345 word corpus (98.2%% of prior 495223)', 'datetime': '2024-07-10T12:09:45.475519', 'gensim': '4.3.2', 'python': '3.10.12 (main, Nov 20 2023, 15:14:05) [GCC 11.4.0]', 'platform': 'Linux-6.1.85+-x86_64-with-glibc2.35', 'event': 'prepare_vocab'}\n",
            "INFO:gensim.models.word2vec:estimated required memory for 12924 words and 300 dimensions: 37479600 bytes\n",
            "INFO:gensim.models.word2vec:resetting layer weights\n",
            "INFO:gensim.utils:Word2Vec lifecycle event {'update': False, 'trim_rule': 'None', 'datetime': '2024-07-10T12:09:45.640661', 'gensim': '4.3.2', 'python': '3.10.12 (main, Nov 20 2023, 15:14:05) [GCC 11.4.0]', 'platform': 'Linux-6.1.85+-x86_64-with-glibc2.35', 'event': 'build_vocab'}\n"
          ]
        }
      ]
    },
    {
      "cell_type": "code",
      "source": [
        "dir(w2v_modelo)"
      ],
      "metadata": {
        "id": "k4evdU0Mc2qx",
        "colab": {
          "base_uri": "https://localhost:8080/"
        },
        "outputId": "895f6c52-191d-4069-9f48-19fd0b3edd1b"
      },
      "execution_count": null,
      "outputs": [
        {
          "output_type": "execute_result",
          "data": {
            "text/plain": [
              "['__class__',\n",
              " '__delattr__',\n",
              " '__dict__',\n",
              " '__dir__',\n",
              " '__doc__',\n",
              " '__eq__',\n",
              " '__format__',\n",
              " '__ge__',\n",
              " '__getattribute__',\n",
              " '__gt__',\n",
              " '__hash__',\n",
              " '__init__',\n",
              " '__init_subclass__',\n",
              " '__le__',\n",
              " '__lt__',\n",
              " '__module__',\n",
              " '__ne__',\n",
              " '__new__',\n",
              " '__reduce__',\n",
              " '__reduce_ex__',\n",
              " '__repr__',\n",
              " '__setattr__',\n",
              " '__sizeof__',\n",
              " '__str__',\n",
              " '__subclasshook__',\n",
              " '__weakref__',\n",
              " '_adapt_by_suffix',\n",
              " '_check_corpus_sanity',\n",
              " '_check_training_sanity',\n",
              " '_clear_post_train',\n",
              " '_do_train_epoch',\n",
              " '_do_train_job',\n",
              " '_get_next_alpha',\n",
              " '_get_thread_working_mem',\n",
              " '_job_producer',\n",
              " '_load_specials',\n",
              " '_log_epoch_end',\n",
              " '_log_epoch_progress',\n",
              " '_log_progress',\n",
              " '_log_train_end',\n",
              " '_raw_word_count',\n",
              " '_save_specials',\n",
              " '_scan_vocab',\n",
              " '_smart_save',\n",
              " '_train_epoch',\n",
              " '_train_epoch_corpusfile',\n",
              " '_worker_loop',\n",
              " '_worker_loop_corpusfile',\n",
              " 'add_lifecycle_event',\n",
              " 'add_null_word',\n",
              " 'alpha',\n",
              " 'batch_words',\n",
              " 'build_vocab',\n",
              " 'build_vocab_from_freq',\n",
              " 'cbow_mean',\n",
              " 'comment',\n",
              " 'compute_loss',\n",
              " 'corpus_count',\n",
              " 'corpus_total_words',\n",
              " 'create_binary_tree',\n",
              " 'cum_table',\n",
              " 'effective_min_count',\n",
              " 'epochs',\n",
              " 'estimate_memory',\n",
              " 'get_latest_training_loss',\n",
              " 'hashfxn',\n",
              " 'hs',\n",
              " 'init_sims',\n",
              " 'init_weights',\n",
              " 'layer1_size',\n",
              " 'lifecycle_events',\n",
              " 'load',\n",
              " 'make_cum_table',\n",
              " 'max_final_vocab',\n",
              " 'max_vocab_size',\n",
              " 'min_alpha',\n",
              " 'min_alpha_yet_reached',\n",
              " 'min_count',\n",
              " 'negative',\n",
              " 'ns_exponent',\n",
              " 'null_word',\n",
              " 'predict_output_word',\n",
              " 'prepare_vocab',\n",
              " 'prepare_weights',\n",
              " 'random',\n",
              " 'raw_vocab',\n",
              " 'reset_from',\n",
              " 'running_training_loss',\n",
              " 'sample',\n",
              " 'save',\n",
              " 'scan_vocab',\n",
              " 'score',\n",
              " 'seed',\n",
              " 'seeded_vector',\n",
              " 'sg',\n",
              " 'shrink_windows',\n",
              " 'sorted_vocab',\n",
              " 'syn1neg',\n",
              " 'total_train_time',\n",
              " 'train',\n",
              " 'train_count',\n",
              " 'update_weights',\n",
              " 'vector_size',\n",
              " 'window',\n",
              " 'workers',\n",
              " 'wv']"
            ]
          },
          "metadata": {},
          "execution_count": 30
        }
      ]
    },
    {
      "cell_type": "code",
      "source": [
        "#rerun"
      ],
      "metadata": {
        "id": "0FKOsZQ1mY-z"
      },
      "execution_count": null,
      "outputs": []
    },
    {
      "cell_type": "code",
      "source": [
        "dir(w2v_modelo)"
      ],
      "metadata": {
        "colab": {
          "base_uri": "https://localhost:8080/"
        },
        "id": "ZX3nQFWEnKPk",
        "outputId": "3427deb2-ac1c-4cad-e73b-f53fc1fd4b7d"
      },
      "execution_count": null,
      "outputs": [
        {
          "output_type": "execute_result",
          "data": {
            "text/plain": [
              "['__class__',\n",
              " '__delattr__',\n",
              " '__dict__',\n",
              " '__dir__',\n",
              " '__doc__',\n",
              " '__eq__',\n",
              " '__format__',\n",
              " '__ge__',\n",
              " '__getattribute__',\n",
              " '__gt__',\n",
              " '__hash__',\n",
              " '__init__',\n",
              " '__init_subclass__',\n",
              " '__le__',\n",
              " '__lt__',\n",
              " '__module__',\n",
              " '__ne__',\n",
              " '__new__',\n",
              " '__reduce__',\n",
              " '__reduce_ex__',\n",
              " '__repr__',\n",
              " '__setattr__',\n",
              " '__sizeof__',\n",
              " '__str__',\n",
              " '__subclasshook__',\n",
              " '__weakref__',\n",
              " '_adapt_by_suffix',\n",
              " '_check_corpus_sanity',\n",
              " '_check_training_sanity',\n",
              " '_clear_post_train',\n",
              " '_do_train_epoch',\n",
              " '_do_train_job',\n",
              " '_get_next_alpha',\n",
              " '_get_thread_working_mem',\n",
              " '_job_producer',\n",
              " '_load_specials',\n",
              " '_log_epoch_end',\n",
              " '_log_epoch_progress',\n",
              " '_log_progress',\n",
              " '_log_train_end',\n",
              " '_raw_word_count',\n",
              " '_save_specials',\n",
              " '_scan_vocab',\n",
              " '_smart_save',\n",
              " '_train_epoch',\n",
              " '_train_epoch_corpusfile',\n",
              " '_worker_loop',\n",
              " '_worker_loop_corpusfile',\n",
              " 'add_lifecycle_event',\n",
              " 'add_null_word',\n",
              " 'alpha',\n",
              " 'batch_words',\n",
              " 'build_vocab',\n",
              " 'build_vocab_from_freq',\n",
              " 'cbow_mean',\n",
              " 'comment',\n",
              " 'compute_loss',\n",
              " 'corpus_count',\n",
              " 'corpus_total_words',\n",
              " 'create_binary_tree',\n",
              " 'cum_table',\n",
              " 'effective_min_count',\n",
              " 'epochs',\n",
              " 'estimate_memory',\n",
              " 'get_latest_training_loss',\n",
              " 'hashfxn',\n",
              " 'hs',\n",
              " 'init_sims',\n",
              " 'init_weights',\n",
              " 'layer1_size',\n",
              " 'lifecycle_events',\n",
              " 'load',\n",
              " 'make_cum_table',\n",
              " 'max_final_vocab',\n",
              " 'max_vocab_size',\n",
              " 'min_alpha',\n",
              " 'min_alpha_yet_reached',\n",
              " 'min_count',\n",
              " 'negative',\n",
              " 'ns_exponent',\n",
              " 'null_word',\n",
              " 'predict_output_word',\n",
              " 'prepare_vocab',\n",
              " 'prepare_weights',\n",
              " 'random',\n",
              " 'raw_vocab',\n",
              " 'reset_from',\n",
              " 'running_training_loss',\n",
              " 'sample',\n",
              " 'save',\n",
              " 'scan_vocab',\n",
              " 'score',\n",
              " 'seed',\n",
              " 'seeded_vector',\n",
              " 'sg',\n",
              " 'shrink_windows',\n",
              " 'sorted_vocab',\n",
              " 'syn1neg',\n",
              " 'total_train_time',\n",
              " 'train',\n",
              " 'train_count',\n",
              " 'update_weights',\n",
              " 'vector_size',\n",
              " 'window',\n",
              " 'workers',\n",
              " 'wv']"
            ]
          },
          "metadata": {},
          "execution_count": 34
        }
      ]
    },
    {
      "cell_type": "code",
      "source": [
        "w2v_modelo.corpus_count"
      ],
      "metadata": {
        "colab": {
          "base_uri": "https://localhost:8080/"
        },
        "id": "DqpVQZ15skXL",
        "outputId": "23780b5b-54f3-47d7-b86d-1c7b6616538d"
      },
      "execution_count": null,
      "outputs": [
        {
          "output_type": "execute_result",
          "data": {
            "text/plain": [
              "84466"
            ]
          },
          "metadata": {},
          "execution_count": 36
        }
      ]
    },
    {
      "cell_type": "code",
      "source": [
        "w2v_modelo.train(lista_lista_tokens,\n",
        "                 total_examples=w2v_modelo.corpus_count,\n",
        "                 epochs=30,\n",
        "                 callbacks=[callback()])"
      ],
      "metadata": {
        "colab": {
          "base_uri": "https://localhost:8080/"
        },
        "id": "p-KMPUssuyj5",
        "outputId": "9cc4b98d-736e-4a09-ee0c-2570689e19fc"
      },
      "execution_count": null,
      "outputs": [
        {
          "output_type": "stream",
          "name": "stderr",
          "text": [
            "WARNING:gensim.models.word2vec:Effective 'alpha' higher than previous training cycles\n",
            "INFO:gensim.utils:Word2Vec lifecycle event {'msg': 'training model with 3 workers on 12924 vocabulary and 300 features, using sg=0 hs=0 sample=0.001 negative=5 window=2 shrink_windows=True', 'datetime': '2024-07-10T13:11:59.951961', 'gensim': '4.3.2', 'python': '3.10.12 (main, Nov 20 2023, 15:14:05) [GCC 11.4.0]', 'platform': 'Linux-6.1.85+-x86_64-with-glibc2.35', 'event': 'train'}\n",
            "INFO:gensim.models.word2vec:EPOCH 0 - PROGRESS: at 88.82% examples, 422676 words/s, in_qsize 5, out_qsize 0\n",
            "DEBUG:gensim.models.word2vec:job loop exiting, total 55 jobs\n",
            "DEBUG:gensim.models.word2vec:worker exiting, processed 21 jobs\n",
            "DEBUG:gensim.models.word2vec:worker thread finished; awaiting finish of 2 more threads\n",
            "DEBUG:gensim.models.word2vec:worker exiting, processed 17 jobs\n",
            "DEBUG:gensim.models.word2vec:worker thread finished; awaiting finish of 1 more threads\n",
            "DEBUG:gensim.models.word2vec:worker exiting, processed 17 jobs\n",
            "DEBUG:gensim.models.word2vec:worker thread finished; awaiting finish of 0 more threads\n",
            "INFO:gensim.models.word2vec:EPOCH 0: training on 540242 raw words (486098 effective words) took 1.1s, 428908 effective words/s\n"
          ]
        },
        {
          "output_type": "stream",
          "name": "stdout",
          "text": [
            "Loss após a época 0: 0.0\n"
          ]
        },
        {
          "output_type": "stream",
          "name": "stderr",
          "text": [
            "INFO:gensim.models.word2vec:EPOCH 1 - PROGRESS: at 87.00% examples, 421271 words/s, in_qsize 5, out_qsize 0\n",
            "DEBUG:gensim.models.word2vec:job loop exiting, total 55 jobs\n",
            "DEBUG:gensim.models.word2vec:worker exiting, processed 20 jobs\n",
            "DEBUG:gensim.models.word2vec:worker thread finished; awaiting finish of 2 more threads\n",
            "DEBUG:gensim.models.word2vec:worker thread finished; awaiting finish of 1 more threads\n",
            "DEBUG:gensim.models.word2vec:worker exiting, processed 18 jobs\n",
            "DEBUG:gensim.models.word2vec:worker thread finished; awaiting finish of 0 more threads\n",
            "INFO:gensim.models.word2vec:EPOCH 1: training on 540242 raw words (486272 effective words) took 1.1s, 428349 effective words/s\n",
            "DEBUG:gensim.models.word2vec:worker exiting, processed 17 jobs\n"
          ]
        },
        {
          "output_type": "stream",
          "name": "stdout",
          "text": [
            "Loss após a época 1: 0.0\n"
          ]
        },
        {
          "output_type": "stream",
          "name": "stderr",
          "text": [
            "INFO:gensim.models.word2vec:EPOCH 2 - PROGRESS: at 85.14% examples, 403660 words/s, in_qsize 5, out_qsize 0\n",
            "DEBUG:gensim.models.word2vec:job loop exiting, total 55 jobs\n",
            "DEBUG:gensim.models.word2vec:worker exiting, processed 18 jobs\n",
            "DEBUG:gensim.models.word2vec:worker thread finished; awaiting finish of 2 more threads\n",
            "DEBUG:gensim.models.word2vec:worker thread finished; awaiting finish of 1 more threads\n",
            "DEBUG:gensim.models.word2vec:worker exiting, processed 19 jobs\n",
            "DEBUG:gensim.models.word2vec:worker exiting, processed 18 jobs\n",
            "DEBUG:gensim.models.word2vec:worker thread finished; awaiting finish of 0 more threads\n",
            "INFO:gensim.models.word2vec:EPOCH 2: training on 540242 raw words (486216 effective words) took 1.2s, 414622 effective words/s\n"
          ]
        },
        {
          "output_type": "stream",
          "name": "stdout",
          "text": [
            "Loss após a época 2: 0.0\n"
          ]
        },
        {
          "output_type": "stream",
          "name": "stderr",
          "text": [
            "INFO:gensim.models.word2vec:EPOCH 3 - PROGRESS: at 85.15% examples, 403442 words/s, in_qsize 5, out_qsize 0\n",
            "DEBUG:gensim.models.word2vec:job loop exiting, total 55 jobs\n",
            "DEBUG:gensim.models.word2vec:worker exiting, processed 20 jobs\n",
            "DEBUG:gensim.models.word2vec:worker thread finished; awaiting finish of 2 more threads\n",
            "DEBUG:gensim.models.word2vec:worker exiting, processed 17 jobs\n",
            "DEBUG:gensim.models.word2vec:worker thread finished; awaiting finish of 1 more threads\n",
            "DEBUG:gensim.models.word2vec:worker exiting, processed 18 jobs\n",
            "DEBUG:gensim.models.word2vec:worker thread finished; awaiting finish of 0 more threads\n",
            "INFO:gensim.models.word2vec:EPOCH 3: training on 540242 raw words (486203 effective words) took 1.2s, 414110 effective words/s\n"
          ]
        },
        {
          "output_type": "stream",
          "name": "stdout",
          "text": [
            "Loss após a época 3: 0.0\n"
          ]
        },
        {
          "output_type": "stream",
          "name": "stderr",
          "text": [
            "INFO:gensim.models.word2vec:EPOCH 4 - PROGRESS: at 88.85% examples, 430789 words/s, in_qsize 5, out_qsize 0\n",
            "DEBUG:gensim.models.word2vec:job loop exiting, total 55 jobs\n",
            "DEBUG:gensim.models.word2vec:worker exiting, processed 17 jobs\n",
            "DEBUG:gensim.models.word2vec:worker thread finished; awaiting finish of 2 more threads\n",
            "DEBUG:gensim.models.word2vec:worker exiting, processed 17 jobs\n",
            "DEBUG:gensim.models.word2vec:worker thread finished; awaiting finish of 1 more threads\n",
            "DEBUG:gensim.models.word2vec:worker exiting, processed 21 jobs\n",
            "DEBUG:gensim.models.word2vec:worker thread finished; awaiting finish of 0 more threads\n",
            "INFO:gensim.models.word2vec:EPOCH 4: training on 540242 raw words (486188 effective words) took 1.1s, 433193 effective words/s\n"
          ]
        },
        {
          "output_type": "stream",
          "name": "stdout",
          "text": [
            "Loss após a época 4: 0.0\n"
          ]
        },
        {
          "output_type": "stream",
          "name": "stderr",
          "text": [
            "INFO:gensim.models.word2vec:EPOCH 5 - PROGRESS: at 88.85% examples, 421691 words/s, in_qsize 5, out_qsize 0\n",
            "DEBUG:gensim.models.word2vec:job loop exiting, total 55 jobs\n",
            "DEBUG:gensim.models.word2vec:worker exiting, processed 19 jobs\n",
            "DEBUG:gensim.models.word2vec:worker thread finished; awaiting finish of 2 more threads\n",
            "DEBUG:gensim.models.word2vec:worker exiting, processed 17 jobs\n",
            "DEBUG:gensim.models.word2vec:worker thread finished; awaiting finish of 1 more threads\n",
            "DEBUG:gensim.models.word2vec:worker exiting, processed 19 jobs\n",
            "DEBUG:gensim.models.word2vec:worker thread finished; awaiting finish of 0 more threads\n",
            "INFO:gensim.models.word2vec:EPOCH 5: training on 540242 raw words (486073 effective words) took 1.1s, 430742 effective words/s\n"
          ]
        },
        {
          "output_type": "stream",
          "name": "stdout",
          "text": [
            "Loss após a época 5: 0.0\n"
          ]
        },
        {
          "output_type": "stream",
          "name": "stderr",
          "text": [
            "INFO:gensim.models.word2vec:EPOCH 6 - PROGRESS: at 90.69% examples, 432683 words/s, in_qsize 5, out_qsize 0\n",
            "DEBUG:gensim.models.word2vec:job loop exiting, total 55 jobs\n",
            "DEBUG:gensim.models.word2vec:worker exiting, processed 20 jobs\n",
            "DEBUG:gensim.models.word2vec:worker thread finished; awaiting finish of 2 more threads\n",
            "DEBUG:gensim.models.word2vec:worker exiting, processed 17 jobs\n",
            "DEBUG:gensim.models.word2vec:worker thread finished; awaiting finish of 1 more threads\n",
            "DEBUG:gensim.models.word2vec:worker exiting, processed 18 jobs\n",
            "DEBUG:gensim.models.word2vec:worker thread finished; awaiting finish of 0 more threads\n",
            "INFO:gensim.models.word2vec:EPOCH 6: training on 540242 raw words (486068 effective words) took 1.1s, 435801 effective words/s\n"
          ]
        },
        {
          "output_type": "stream",
          "name": "stdout",
          "text": [
            "Loss após a época 6: 0.0\n"
          ]
        },
        {
          "output_type": "stream",
          "name": "stderr",
          "text": [
            "INFO:gensim.models.word2vec:EPOCH 7 - PROGRESS: at 88.85% examples, 425785 words/s, in_qsize 5, out_qsize 0\n",
            "DEBUG:gensim.models.word2vec:job loop exiting, total 55 jobs\n",
            "DEBUG:gensim.models.word2vec:worker exiting, processed 19 jobs\n",
            "DEBUG:gensim.models.word2vec:worker thread finished; awaiting finish of 2 more threads\n",
            "DEBUG:gensim.models.word2vec:worker exiting, processed 18 jobs\n",
            "DEBUG:gensim.models.word2vec:worker thread finished; awaiting finish of 1 more threads\n",
            "DEBUG:gensim.models.word2vec:worker exiting, processed 18 jobs\n",
            "DEBUG:gensim.models.word2vec:worker thread finished; awaiting finish of 0 more threads\n",
            "INFO:gensim.models.word2vec:EPOCH 7: training on 540242 raw words (486168 effective words) took 1.1s, 437652 effective words/s\n"
          ]
        },
        {
          "output_type": "stream",
          "name": "stdout",
          "text": [
            "Loss após a época 7: 0.0\n"
          ]
        },
        {
          "output_type": "stream",
          "name": "stderr",
          "text": [
            "INFO:gensim.models.word2vec:EPOCH 8 - PROGRESS: at 68.53% examples, 324413 words/s, in_qsize 5, out_qsize 0\n",
            "DEBUG:gensim.models.word2vec:job loop exiting, total 55 jobs\n",
            "DEBUG:gensim.models.word2vec:worker exiting, processed 19 jobs\n",
            "DEBUG:gensim.models.word2vec:worker thread finished; awaiting finish of 2 more threads\n",
            "DEBUG:gensim.models.word2vec:worker exiting, processed 19 jobs\n",
            "DEBUG:gensim.models.word2vec:worker thread finished; awaiting finish of 1 more threads\n",
            "DEBUG:gensim.models.word2vec:worker thread finished; awaiting finish of 0 more threads\n",
            "INFO:gensim.models.word2vec:EPOCH 8: training on 540242 raw words (486139 effective words) took 1.6s, 299497 effective words/s\n",
            "DEBUG:gensim.models.word2vec:worker exiting, processed 17 jobs\n"
          ]
        },
        {
          "output_type": "stream",
          "name": "stdout",
          "text": [
            "Loss após a época 8: 0.0\n"
          ]
        },
        {
          "output_type": "stream",
          "name": "stderr",
          "text": [
            "INFO:gensim.models.word2vec:EPOCH 9 - PROGRESS: at 48.21% examples, 225626 words/s, in_qsize 5, out_qsize 0\n",
            "DEBUG:gensim.models.word2vec:job loop exiting, total 55 jobs\n",
            "DEBUG:gensim.models.word2vec:worker exiting, processed 18 jobs\n",
            "DEBUG:gensim.models.word2vec:worker thread finished; awaiting finish of 2 more threads\n",
            "DEBUG:gensim.models.word2vec:worker exiting, processed 19 jobs\n",
            "DEBUG:gensim.models.word2vec:worker thread finished; awaiting finish of 1 more threads\n",
            "DEBUG:gensim.models.word2vec:worker thread finished; awaiting finish of 0 more threads\n",
            "INFO:gensim.models.word2vec:EPOCH 9: training on 540242 raw words (486186 effective words) took 2.0s, 245795 effective words/s\n",
            "DEBUG:gensim.models.word2vec:worker exiting, processed 18 jobs\n"
          ]
        },
        {
          "output_type": "stream",
          "name": "stdout",
          "text": [
            "Loss após a época 9: 0.0\n"
          ]
        },
        {
          "output_type": "stream",
          "name": "stderr",
          "text": [
            "INFO:gensim.models.word2vec:EPOCH 10 - PROGRESS: at 51.91% examples, 249625 words/s, in_qsize 5, out_qsize 0\n",
            "DEBUG:gensim.models.word2vec:job loop exiting, total 55 jobs\n",
            "DEBUG:gensim.models.word2vec:worker exiting, processed 18 jobs\n",
            "DEBUG:gensim.models.word2vec:worker thread finished; awaiting finish of 2 more threads\n",
            "DEBUG:gensim.models.word2vec:worker exiting, processed 18 jobs\n",
            "DEBUG:gensim.models.word2vec:worker thread finished; awaiting finish of 1 more threads\n",
            "DEBUG:gensim.models.word2vec:worker exiting, processed 19 jobs\n",
            "DEBUG:gensim.models.word2vec:worker thread finished; awaiting finish of 0 more threads\n",
            "INFO:gensim.models.word2vec:EPOCH 10: training on 540242 raw words (486208 effective words) took 2.0s, 248681 effective words/s\n"
          ]
        },
        {
          "output_type": "stream",
          "name": "stdout",
          "text": [
            "Loss após a época 10: 0.0\n"
          ]
        },
        {
          "output_type": "stream",
          "name": "stderr",
          "text": [
            "INFO:gensim.models.word2vec:EPOCH 11 - PROGRESS: at 90.67% examples, 439615 words/s, in_qsize 5, out_qsize 0\n",
            "DEBUG:gensim.models.word2vec:job loop exiting, total 55 jobs\n",
            "DEBUG:gensim.models.word2vec:worker exiting, processed 19 jobs\n",
            "DEBUG:gensim.models.word2vec:worker thread finished; awaiting finish of 2 more threads\n",
            "DEBUG:gensim.models.word2vec:worker thread finished; awaiting finish of 1 more threads\n",
            "DEBUG:gensim.models.word2vec:worker exiting, processed 18 jobs\n",
            "DEBUG:gensim.models.word2vec:worker exiting, processed 18 jobs\n",
            "DEBUG:gensim.models.word2vec:worker thread finished; awaiting finish of 0 more threads\n",
            "INFO:gensim.models.word2vec:EPOCH 11: training on 540242 raw words (486107 effective words) took 1.1s, 435087 effective words/s\n"
          ]
        },
        {
          "output_type": "stream",
          "name": "stdout",
          "text": [
            "Loss após a época 11: 0.0\n"
          ]
        },
        {
          "output_type": "stream",
          "name": "stderr",
          "text": [
            "INFO:gensim.models.word2vec:EPOCH 12 - PROGRESS: at 90.71% examples, 428495 words/s, in_qsize 5, out_qsize 0\n",
            "DEBUG:gensim.models.word2vec:job loop exiting, total 55 jobs\n",
            "DEBUG:gensim.models.word2vec:worker exiting, processed 20 jobs\n",
            "DEBUG:gensim.models.word2vec:worker thread finished; awaiting finish of 2 more threads\n",
            "DEBUG:gensim.models.word2vec:worker exiting, processed 17 jobs\n",
            "DEBUG:gensim.models.word2vec:worker thread finished; awaiting finish of 1 more threads\n",
            "DEBUG:gensim.models.word2vec:worker exiting, processed 18 jobs\n",
            "DEBUG:gensim.models.word2vec:worker thread finished; awaiting finish of 0 more threads\n",
            "INFO:gensim.models.word2vec:EPOCH 12: training on 540242 raw words (486121 effective words) took 1.1s, 434103 effective words/s\n"
          ]
        },
        {
          "output_type": "stream",
          "name": "stdout",
          "text": [
            "Loss após a época 12: 0.0\n"
          ]
        },
        {
          "output_type": "stream",
          "name": "stderr",
          "text": [
            "INFO:gensim.models.word2vec:EPOCH 13 - PROGRESS: at 90.67% examples, 426705 words/s, in_qsize 5, out_qsize 0\n",
            "DEBUG:gensim.models.word2vec:job loop exiting, total 55 jobs\n",
            "DEBUG:gensim.models.word2vec:worker exiting, processed 17 jobs\n",
            "DEBUG:gensim.models.word2vec:worker thread finished; awaiting finish of 2 more threads\n",
            "DEBUG:gensim.models.word2vec:worker exiting, processed 18 jobs\n",
            "DEBUG:gensim.models.word2vec:worker thread finished; awaiting finish of 1 more threads\n",
            "DEBUG:gensim.models.word2vec:worker exiting, processed 20 jobs\n",
            "DEBUG:gensim.models.word2vec:worker thread finished; awaiting finish of 0 more threads\n",
            "INFO:gensim.models.word2vec:EPOCH 13: training on 540242 raw words (486166 effective words) took 1.1s, 422762 effective words/s\n"
          ]
        },
        {
          "output_type": "stream",
          "name": "stdout",
          "text": [
            "Loss após a época 13: 0.0\n"
          ]
        },
        {
          "output_type": "stream",
          "name": "stderr",
          "text": [
            "INFO:gensim.models.word2vec:EPOCH 14 - PROGRESS: at 90.71% examples, 431048 words/s, in_qsize 5, out_qsize 0\n",
            "DEBUG:gensim.models.word2vec:job loop exiting, total 55 jobs\n",
            "DEBUG:gensim.models.word2vec:worker exiting, processed 20 jobs\n",
            "DEBUG:gensim.models.word2vec:worker thread finished; awaiting finish of 2 more threads\n",
            "DEBUG:gensim.models.word2vec:worker exiting, processed 18 jobs\n",
            "DEBUG:gensim.models.word2vec:worker thread finished; awaiting finish of 1 more threads\n",
            "DEBUG:gensim.models.word2vec:worker exiting, processed 17 jobs\n",
            "DEBUG:gensim.models.word2vec:worker thread finished; awaiting finish of 0 more threads\n",
            "INFO:gensim.models.word2vec:EPOCH 14: training on 540242 raw words (486209 effective words) took 1.1s, 437959 effective words/s\n"
          ]
        },
        {
          "output_type": "stream",
          "name": "stdout",
          "text": [
            "Loss após a época 14: 0.0\n"
          ]
        },
        {
          "output_type": "stream",
          "name": "stderr",
          "text": [
            "INFO:gensim.models.word2vec:EPOCH 15 - PROGRESS: at 72.19% examples, 347197 words/s, in_qsize 5, out_qsize 0\n",
            "DEBUG:gensim.models.word2vec:job loop exiting, total 55 jobs\n",
            "DEBUG:gensim.models.word2vec:worker exiting, processed 19 jobs\n",
            "DEBUG:gensim.models.word2vec:worker thread finished; awaiting finish of 2 more threads\n",
            "DEBUG:gensim.models.word2vec:worker thread finished; awaiting finish of 1 more threads\n",
            "DEBUG:gensim.models.word2vec:worker exiting, processed 19 jobs\n",
            "DEBUG:gensim.models.word2vec:worker exiting, processed 17 jobs\n",
            "DEBUG:gensim.models.word2vec:worker thread finished; awaiting finish of 0 more threads\n",
            "INFO:gensim.models.word2vec:EPOCH 15: training on 540242 raw words (486129 effective words) took 1.4s, 359165 effective words/s\n"
          ]
        },
        {
          "output_type": "stream",
          "name": "stdout",
          "text": [
            "Loss após a época 15: 0.0\n"
          ]
        },
        {
          "output_type": "stream",
          "name": "stderr",
          "text": [
            "INFO:gensim.models.word2vec:EPOCH 16 - PROGRESS: at 88.85% examples, 431659 words/s, in_qsize 5, out_qsize 0\n",
            "DEBUG:gensim.models.word2vec:job loop exiting, total 55 jobs\n",
            "DEBUG:gensim.models.word2vec:worker exiting, processed 19 jobs\n",
            "DEBUG:gensim.models.word2vec:worker thread finished; awaiting finish of 2 more threads\n",
            "DEBUG:gensim.models.word2vec:worker exiting, processed 19 jobs\n",
            "DEBUG:gensim.models.word2vec:worker thread finished; awaiting finish of 1 more threads\n",
            "DEBUG:gensim.models.word2vec:worker thread finished; awaiting finish of 0 more threads\n",
            "INFO:gensim.models.word2vec:EPOCH 16: training on 540242 raw words (486030 effective words) took 1.1s, 440900 effective words/s\n",
            "DEBUG:gensim.models.word2vec:worker exiting, processed 17 jobs\n"
          ]
        },
        {
          "output_type": "stream",
          "name": "stdout",
          "text": [
            "Loss após a época 16: 0.0\n"
          ]
        },
        {
          "output_type": "stream",
          "name": "stderr",
          "text": [
            "INFO:gensim.models.word2vec:EPOCH 17 - PROGRESS: at 88.85% examples, 420787 words/s, in_qsize 5, out_qsize 0\n",
            "DEBUG:gensim.models.word2vec:job loop exiting, total 55 jobs\n",
            "DEBUG:gensim.models.word2vec:worker exiting, processed 17 jobs\n",
            "DEBUG:gensim.models.word2vec:worker thread finished; awaiting finish of 2 more threads\n",
            "DEBUG:gensim.models.word2vec:worker thread finished; awaiting finish of 1 more threads\n",
            "DEBUG:gensim.models.word2vec:worker exiting, processed 19 jobs\n",
            "DEBUG:gensim.models.word2vec:worker exiting, processed 19 jobs\n",
            "DEBUG:gensim.models.word2vec:worker thread finished; awaiting finish of 0 more threads\n",
            "INFO:gensim.models.word2vec:EPOCH 17: training on 540242 raw words (486126 effective words) took 1.1s, 433982 effective words/s\n"
          ]
        },
        {
          "output_type": "stream",
          "name": "stdout",
          "text": [
            "Loss após a época 17: 0.0\n"
          ]
        },
        {
          "output_type": "stream",
          "name": "stderr",
          "text": [
            "DEBUG:gensim.models.word2vec:job loop exiting, total 55 jobs\n",
            "INFO:gensim.models.word2vec:EPOCH 18 - PROGRESS: at 92.52% examples, 432762 words/s, in_qsize 5, out_qsize 0\n",
            "DEBUG:gensim.models.word2vec:worker exiting, processed 17 jobs\n",
            "DEBUG:gensim.models.word2vec:worker thread finished; awaiting finish of 2 more threads\n",
            "DEBUG:gensim.models.word2vec:worker exiting, processed 19 jobs\n",
            "DEBUG:gensim.models.word2vec:worker thread finished; awaiting finish of 1 more threads\n",
            "DEBUG:gensim.models.word2vec:worker exiting, processed 19 jobs\n",
            "DEBUG:gensim.models.word2vec:worker thread finished; awaiting finish of 0 more threads\n",
            "INFO:gensim.models.word2vec:EPOCH 18: training on 540242 raw words (486260 effective words) took 1.1s, 438034 effective words/s\n"
          ]
        },
        {
          "output_type": "stream",
          "name": "stdout",
          "text": [
            "Loss após a época 18: 0.0\n"
          ]
        },
        {
          "output_type": "stream",
          "name": "stderr",
          "text": [
            "INFO:gensim.models.word2vec:EPOCH 19 - PROGRESS: at 79.60% examples, 367674 words/s, in_qsize 4, out_qsize 1\n",
            "DEBUG:gensim.models.word2vec:job loop exiting, total 55 jobs\n",
            "DEBUG:gensim.models.word2vec:worker exiting, processed 19 jobs\n",
            "DEBUG:gensim.models.word2vec:worker thread finished; awaiting finish of 2 more threads\n",
            "DEBUG:gensim.models.word2vec:worker exiting, processed 20 jobs\n",
            "DEBUG:gensim.models.word2vec:worker thread finished; awaiting finish of 1 more threads\n",
            "DEBUG:gensim.models.word2vec:worker exiting, processed 16 jobs\n",
            "DEBUG:gensim.models.word2vec:worker thread finished; awaiting finish of 0 more threads\n",
            "INFO:gensim.models.word2vec:EPOCH 19: training on 540242 raw words (486130 effective words) took 1.4s, 349453 effective words/s\n"
          ]
        },
        {
          "output_type": "stream",
          "name": "stdout",
          "text": [
            "Loss após a época 19: 0.0\n"
          ]
        },
        {
          "output_type": "stream",
          "name": "stderr",
          "text": [
            "INFO:gensim.models.word2vec:EPOCH 20 - PROGRESS: at 48.21% examples, 214946 words/s, in_qsize 4, out_qsize 1\n",
            "DEBUG:gensim.models.word2vec:job loop exiting, total 55 jobs\n",
            "DEBUG:gensim.models.word2vec:worker exiting, processed 18 jobs\n",
            "DEBUG:gensim.models.word2vec:worker thread finished; awaiting finish of 2 more threads\n",
            "DEBUG:gensim.models.word2vec:worker exiting, processed 19 jobs\n",
            "DEBUG:gensim.models.word2vec:worker thread finished; awaiting finish of 1 more threads\n",
            "DEBUG:gensim.models.word2vec:worker thread finished; awaiting finish of 0 more threads\n",
            "INFO:gensim.models.word2vec:EPOCH 20: training on 540242 raw words (486258 effective words) took 2.0s, 243653 effective words/s\n",
            "DEBUG:gensim.models.word2vec:worker exiting, processed 18 jobs\n"
          ]
        },
        {
          "output_type": "stream",
          "name": "stdout",
          "text": [
            "Loss após a época 20: 0.0\n"
          ]
        },
        {
          "output_type": "stream",
          "name": "stderr",
          "text": [
            "INFO:gensim.models.word2vec:EPOCH 21 - PROGRESS: at 53.75% examples, 250185 words/s, in_qsize 5, out_qsize 0\n",
            "DEBUG:gensim.models.word2vec:job loop exiting, total 55 jobs\n",
            "DEBUG:gensim.models.word2vec:worker exiting, processed 19 jobs\n",
            "DEBUG:gensim.models.word2vec:worker thread finished; awaiting finish of 2 more threads\n",
            "DEBUG:gensim.models.word2vec:worker exiting, processed 18 jobs\n",
            "DEBUG:gensim.models.word2vec:worker thread finished; awaiting finish of 1 more threads\n",
            "DEBUG:gensim.models.word2vec:worker exiting, processed 18 jobs\n",
            "DEBUG:gensim.models.word2vec:worker thread finished; awaiting finish of 0 more threads\n",
            "INFO:gensim.models.word2vec:EPOCH 21: training on 540242 raw words (486167 effective words) took 1.9s, 251291 effective words/s\n"
          ]
        },
        {
          "output_type": "stream",
          "name": "stdout",
          "text": [
            "Loss após a época 21: 0.0\n"
          ]
        },
        {
          "output_type": "stream",
          "name": "stderr",
          "text": [
            "INFO:gensim.models.word2vec:EPOCH 22 - PROGRESS: at 75.91% examples, 362235 words/s, in_qsize 5, out_qsize 0\n",
            "DEBUG:gensim.models.word2vec:job loop exiting, total 55 jobs\n",
            "DEBUG:gensim.models.word2vec:worker exiting, processed 20 jobs\n",
            "DEBUG:gensim.models.word2vec:worker thread finished; awaiting finish of 2 more threads\n",
            "DEBUG:gensim.models.word2vec:worker exiting, processed 19 jobs\n",
            "DEBUG:gensim.models.word2vec:worker thread finished; awaiting finish of 1 more threads\n",
            "DEBUG:gensim.models.word2vec:worker thread finished; awaiting finish of 0 more threads\n",
            "INFO:gensim.models.word2vec:EPOCH 22: training on 540242 raw words (486163 effective words) took 1.2s, 390483 effective words/s\n",
            "DEBUG:gensim.models.word2vec:worker exiting, processed 16 jobs\n"
          ]
        },
        {
          "output_type": "stream",
          "name": "stdout",
          "text": [
            "Loss após a época 22: 0.0\n"
          ]
        },
        {
          "output_type": "stream",
          "name": "stderr",
          "text": [
            "INFO:gensim.models.word2vec:EPOCH 23 - PROGRESS: at 90.71% examples, 436481 words/s, in_qsize 5, out_qsize 0\n",
            "DEBUG:gensim.models.word2vec:job loop exiting, total 55 jobs\n",
            "DEBUG:gensim.models.word2vec:worker exiting, processed 17 jobs\n",
            "DEBUG:gensim.models.word2vec:worker thread finished; awaiting finish of 2 more threads\n",
            "DEBUG:gensim.models.word2vec:worker thread finished; awaiting finish of 1 more threads\n",
            "DEBUG:gensim.models.word2vec:worker thread finished; awaiting finish of 0 more threads\n",
            "INFO:gensim.models.word2vec:EPOCH 23: training on 540242 raw words (486086 effective words) took 1.1s, 444968 effective words/s\n",
            "DEBUG:gensim.models.word2vec:worker exiting, processed 21 jobs\n",
            "DEBUG:gensim.models.word2vec:worker exiting, processed 17 jobs\n"
          ]
        },
        {
          "output_type": "stream",
          "name": "stdout",
          "text": [
            "Loss após a época 23: 0.0\n"
          ]
        },
        {
          "output_type": "stream",
          "name": "stderr",
          "text": [
            "DEBUG:gensim.models.word2vec:job loop exiting, total 55 jobs\n",
            "INFO:gensim.models.word2vec:EPOCH 24 - PROGRESS: at 92.52% examples, 440123 words/s, in_qsize 5, out_qsize 0\n",
            "DEBUG:gensim.models.word2vec:worker exiting, processed 19 jobs\n",
            "DEBUG:gensim.models.word2vec:worker thread finished; awaiting finish of 2 more threads\n",
            "DEBUG:gensim.models.word2vec:worker exiting, processed 18 jobs\n",
            "DEBUG:gensim.models.word2vec:worker thread finished; awaiting finish of 1 more threads\n",
            "DEBUG:gensim.models.word2vec:worker thread finished; awaiting finish of 0 more threads\n",
            "INFO:gensim.models.word2vec:EPOCH 24: training on 540242 raw words (485998 effective words) took 1.1s, 449234 effective words/s\n",
            "DEBUG:gensim.models.word2vec:worker exiting, processed 18 jobs\n"
          ]
        },
        {
          "output_type": "stream",
          "name": "stdout",
          "text": [
            "Loss após a época 24: 0.0\n"
          ]
        },
        {
          "output_type": "stream",
          "name": "stderr",
          "text": [
            "DEBUG:gensim.models.word2vec:job loop exiting, total 55 jobs\n",
            "INFO:gensim.models.word2vec:EPOCH 25 - PROGRESS: at 92.52% examples, 437114 words/s, in_qsize 5, out_qsize 0\n",
            "DEBUG:gensim.models.word2vec:worker exiting, processed 18 jobs\n",
            "DEBUG:gensim.models.word2vec:worker thread finished; awaiting finish of 2 more threads\n",
            "DEBUG:gensim.models.word2vec:worker exiting, processed 16 jobs\n",
            "DEBUG:gensim.models.word2vec:worker thread finished; awaiting finish of 1 more threads\n",
            "DEBUG:gensim.models.word2vec:worker exiting, processed 21 jobs\n",
            "DEBUG:gensim.models.word2vec:worker thread finished; awaiting finish of 0 more threads\n",
            "INFO:gensim.models.word2vec:EPOCH 25: training on 540242 raw words (486151 effective words) took 1.1s, 443445 effective words/s\n"
          ]
        },
        {
          "output_type": "stream",
          "name": "stdout",
          "text": [
            "Loss após a época 25: 0.0\n"
          ]
        },
        {
          "output_type": "stream",
          "name": "stderr",
          "text": [
            "INFO:gensim.models.word2vec:EPOCH 26 - PROGRESS: at 90.69% examples, 439212 words/s, in_qsize 5, out_qsize 0\n",
            "DEBUG:gensim.models.word2vec:job loop exiting, total 55 jobs\n",
            "DEBUG:gensim.models.word2vec:worker exiting, processed 18 jobs\n",
            "DEBUG:gensim.models.word2vec:worker thread finished; awaiting finish of 2 more threads\n",
            "DEBUG:gensim.models.word2vec:worker exiting, processed 17 jobs\n",
            "DEBUG:gensim.models.word2vec:worker thread finished; awaiting finish of 1 more threads\n",
            "DEBUG:gensim.models.word2vec:worker exiting, processed 20 jobs\n",
            "DEBUG:gensim.models.word2vec:worker thread finished; awaiting finish of 0 more threads\n",
            "INFO:gensim.models.word2vec:EPOCH 26: training on 540242 raw words (486078 effective words) took 1.1s, 444617 effective words/s\n"
          ]
        },
        {
          "output_type": "stream",
          "name": "stdout",
          "text": [
            "Loss após a época 26: 0.0\n"
          ]
        },
        {
          "output_type": "stream",
          "name": "stderr",
          "text": [
            "INFO:gensim.models.word2vec:EPOCH 27 - PROGRESS: at 86.98% examples, 422276 words/s, in_qsize 6, out_qsize 0\n",
            "DEBUG:gensim.models.word2vec:job loop exiting, total 55 jobs\n",
            "DEBUG:gensim.models.word2vec:worker exiting, processed 19 jobs\n",
            "DEBUG:gensim.models.word2vec:worker thread finished; awaiting finish of 2 more threads\n",
            "DEBUG:gensim.models.word2vec:worker exiting, processed 18 jobs\n",
            "DEBUG:gensim.models.word2vec:worker thread finished; awaiting finish of 1 more threads\n",
            "DEBUG:gensim.models.word2vec:worker exiting, processed 18 jobs\n",
            "DEBUG:gensim.models.word2vec:worker thread finished; awaiting finish of 0 more threads\n",
            "INFO:gensim.models.word2vec:EPOCH 27: training on 540242 raw words (486252 effective words) took 1.2s, 403403 effective words/s\n"
          ]
        },
        {
          "output_type": "stream",
          "name": "stdout",
          "text": [
            "Loss após a época 27: 0.0\n"
          ]
        },
        {
          "output_type": "stream",
          "name": "stderr",
          "text": [
            "INFO:gensim.models.word2vec:EPOCH 28 - PROGRESS: at 51.91% examples, 224273 words/s, in_qsize 5, out_qsize 0\n",
            "DEBUG:gensim.models.word2vec:job loop exiting, total 55 jobs\n",
            "DEBUG:gensim.models.word2vec:worker exiting, processed 18 jobs\n",
            "DEBUG:gensim.models.word2vec:worker thread finished; awaiting finish of 2 more threads\n",
            "DEBUG:gensim.models.word2vec:worker thread finished; awaiting finish of 1 more threads\n",
            "DEBUG:gensim.models.word2vec:worker exiting, processed 16 jobs\n",
            "DEBUG:gensim.models.word2vec:worker exiting, processed 21 jobs\n",
            "DEBUG:gensim.models.word2vec:worker thread finished; awaiting finish of 0 more threads\n",
            "INFO:gensim.models.word2vec:EPOCH 28: training on 540242 raw words (486291 effective words) took 1.8s, 265398 effective words/s\n"
          ]
        },
        {
          "output_type": "stream",
          "name": "stdout",
          "text": [
            "Loss após a época 28: 0.0\n"
          ]
        },
        {
          "output_type": "stream",
          "name": "stderr",
          "text": [
            "INFO:gensim.models.word2vec:EPOCH 29 - PROGRESS: at 68.51% examples, 330170 words/s, in_qsize 5, out_qsize 0\n",
            "DEBUG:gensim.models.word2vec:job loop exiting, total 55 jobs\n",
            "DEBUG:gensim.models.word2vec:worker exiting, processed 19 jobs\n",
            "DEBUG:gensim.models.word2vec:worker thread finished; awaiting finish of 2 more threads\n",
            "DEBUG:gensim.models.word2vec:worker thread finished; awaiting finish of 1 more threads\n",
            "DEBUG:gensim.models.word2vec:worker thread finished; awaiting finish of 0 more threads\n",
            "INFO:gensim.models.word2vec:EPOCH 29: training on 540242 raw words (486315 effective words) took 1.3s, 366902 effective words/s\n",
            "INFO:gensim.utils:Word2Vec lifecycle event {'msg': 'training on 16207260 raw words (14584856 effective words) took 39.6s, 368349 effective words/s', 'datetime': '2024-07-10T13:12:39.548583', 'gensim': '4.3.2', 'python': '3.10.12 (main, Nov 20 2023, 15:14:05) [GCC 11.4.0]', 'platform': 'Linux-6.1.85+-x86_64-with-glibc2.35', 'event': 'train'}\n"
          ]
        },
        {
          "output_type": "stream",
          "name": "stdout",
          "text": [
            "Loss após a época 29: 0.0\n"
          ]
        },
        {
          "output_type": "stream",
          "name": "stderr",
          "text": [
            "DEBUG:gensim.models.word2vec:worker exiting, processed 19 jobs\n",
            "DEBUG:gensim.models.word2vec:worker exiting, processed 17 jobs\n"
          ]
        },
        {
          "output_type": "execute_result",
          "data": {
            "text/plain": [
              "(14584856, 16207260)"
            ]
          },
          "metadata": {},
          "execution_count": 43
        }
      ]
    },
    {
      "cell_type": "code",
      "source": [
        "w2v_modelo.wv.most_similar('rio')"
      ],
      "metadata": {
        "colab": {
          "base_uri": "https://localhost:8080/"
        },
        "id": "zqAVLFu3u-Tl",
        "outputId": "0d524016-b53e-4c3b-ff01-2ed8fbef5c03"
      },
      "execution_count": null,
      "outputs": [
        {
          "output_type": "execute_result",
          "data": {
            "text/plain": [
              "[('sp', 0.3533506393432617),\n",
              " ('campinas', 0.3391982316970825),\n",
              " ('rn', 0.332835853099823),\n",
              " ('bahia', 0.33153626322746277),\n",
              " ('bh', 0.3189869821071625),\n",
              " ('ilhabela', 0.3182435929775238),\n",
              " ('cuiabá', 0.3027421236038208),\n",
              " ('rocinha', 0.3026760518550873),\n",
              " ('janeiro', 0.3025020360946655),\n",
              " ('manaus', 0.3007639944553375)]"
            ]
          },
          "metadata": {},
          "execution_count": 44
        }
      ]
    },
    {
      "cell_type": "code",
      "source": [
        "w2v_modelo.wv.most_similar('ferrari')"
      ],
      "metadata": {
        "colab": {
          "base_uri": "https://localhost:8080/"
        },
        "id": "_lbpsyxzvN0P",
        "outputId": "ed7870a5-3696-4f2e-a674-98ea35bc3474"
      },
      "execution_count": null,
      "outputs": [
        {
          "output_type": "execute_result",
          "data": {
            "text/plain": [
              "[('mercedes', 0.48027363419532776),\n",
              " ('vettel', 0.42429837584495544),\n",
              " ('nasr', 0.4209877550601959),\n",
              " ('schumacher', 0.410127729177475),\n",
              " ('mclaren', 0.40768393874168396),\n",
              " ('grid', 0.4008604884147644),\n",
              " ('raikkonen', 0.3805752396583557),\n",
              " ('rosberg', 0.37927085161209106),\n",
              " ('áustria', 0.37195563316345215),\n",
              " ('pontuar', 0.36714446544647217)]"
            ]
          },
          "metadata": {},
          "execution_count": 45
        }
      ]
    },
    {
      "cell_type": "markdown",
      "source": [
        "Modelo Skipgram"
      ],
      "metadata": {
        "id": "R1vwN5ynyPuB"
      }
    },
    {
      "cell_type": "code",
      "source": [
        "w2v_modelo_sg = Word2Vec(sg=1, #skipgram on\n",
        "                      window=5, #janela maior\n",
        "                      vector_size=300,\n",
        "                      min_count=5,\n",
        "                      alpha=0.03,\n",
        "                      min_alpha=0.0007)\n",
        "\n",
        "w2v_modelo_sg.build_vocab(lista_lista_tokens, progress_per=5000)\n",
        "\n",
        "w2v_modelo_sg.train(lista_lista_tokens,\n",
        "                 total_examples=w2v_modelo_sg.corpus_count,\n",
        "                 epochs=30,\n",
        "                 callbacks=[callback()])"
      ],
      "metadata": {
        "colab": {
          "base_uri": "https://localhost:8080/"
        },
        "id": "Z-wr1TopvSVn",
        "outputId": "138b90e5-933c-4498-b8bf-8cc683455a2a"
      },
      "execution_count": null,
      "outputs": [
        {
          "output_type": "stream",
          "name": "stderr",
          "text": [
            "DEBUG:gensim.utils:starting a new internal lifecycle event log for Word2Vec\n",
            "INFO:gensim.utils:Word2Vec lifecycle event {'params': 'Word2Vec<vocab=0, vector_size=300, alpha=0.03>', 'datetime': '2024-07-10T13:15:43.181483', 'gensim': '4.3.2', 'python': '3.10.12 (main, Nov 20 2023, 15:14:05) [GCC 11.4.0]', 'platform': 'Linux-6.1.85+-x86_64-with-glibc2.35', 'event': 'created'}\n",
            "INFO:gensim.models.word2vec:collecting all words and their counts\n",
            "INFO:gensim.models.word2vec:PROGRESS: at sentence #0, processed 0 words, keeping 0 word types\n",
            "INFO:gensim.models.word2vec:PROGRESS: at sentence #5000, processed 31930 words, keeping 10193 word types\n",
            "INFO:gensim.models.word2vec:PROGRESS: at sentence #10000, processed 63848 words, keeping 14989 word types\n",
            "INFO:gensim.models.word2vec:PROGRESS: at sentence #15000, processed 95753 words, keeping 18279 word types\n",
            "INFO:gensim.models.word2vec:PROGRESS: at sentence #20000, processed 127689 words, keeping 21033 word types\n",
            "INFO:gensim.models.word2vec:PROGRESS: at sentence #25000, processed 159589 words, keeping 23491 word types\n",
            "INFO:gensim.models.word2vec:PROGRESS: at sentence #30000, processed 191554 words, keeping 25494 word types\n",
            "INFO:gensim.models.word2vec:PROGRESS: at sentence #35000, processed 223412 words, keeping 27330 word types\n",
            "INFO:gensim.models.word2vec:PROGRESS: at sentence #40000, processed 255282 words, keeping 29053 word types\n",
            "INFO:gensim.models.word2vec:PROGRESS: at sentence #45000, processed 287297 words, keeping 30606 word types\n",
            "INFO:gensim.models.word2vec:PROGRESS: at sentence #50000, processed 319258 words, keeping 31964 word types\n",
            "INFO:gensim.models.word2vec:PROGRESS: at sentence #55000, processed 351437 words, keeping 33270 word types\n",
            "INFO:gensim.models.word2vec:PROGRESS: at sentence #60000, processed 383579 words, keeping 34520 word types\n",
            "INFO:gensim.models.word2vec:PROGRESS: at sentence #65000, processed 415565 words, keeping 35643 word types\n",
            "INFO:gensim.models.word2vec:PROGRESS: at sentence #70000, processed 447646 words, keeping 36719 word types\n",
            "INFO:gensim.models.word2vec:PROGRESS: at sentence #75000, processed 479568 words, keeping 37802 word types\n",
            "INFO:gensim.models.word2vec:PROGRESS: at sentence #80000, processed 511645 words, keeping 38814 word types\n",
            "INFO:gensim.models.word2vec:collected 39693 word types from a corpus of 540242 raw words and 84466 sentences\n",
            "INFO:gensim.models.word2vec:Creating a fresh vocabulary\n",
            "INFO:gensim.utils:Word2Vec lifecycle event {'msg': 'effective_min_count=5 retains 12924 unique words (32.56% of original 39693, drops 26769)', 'datetime': '2024-07-10T13:15:43.966649', 'gensim': '4.3.2', 'python': '3.10.12 (main, Nov 20 2023, 15:14:05) [GCC 11.4.0]', 'platform': 'Linux-6.1.85+-x86_64-with-glibc2.35', 'event': 'prepare_vocab'}\n",
            "INFO:gensim.utils:Word2Vec lifecycle event {'msg': 'effective_min_count=5 leaves 495223 word corpus (91.67% of original 540242, drops 45019)', 'datetime': '2024-07-10T13:15:43.968425', 'gensim': '4.3.2', 'python': '3.10.12 (main, Nov 20 2023, 15:14:05) [GCC 11.4.0]', 'platform': 'Linux-6.1.85+-x86_64-with-glibc2.35', 'event': 'prepare_vocab'}\n",
            "INFO:gensim.models.word2vec:deleting the raw counts dictionary of 39693 items\n",
            "INFO:gensim.models.word2vec:sample=0.001 downsamples 8 most-common words\n",
            "INFO:gensim.utils:Word2Vec lifecycle event {'msg': 'downsampling leaves estimated 486147.7552334345 word corpus (98.2%% of prior 495223)', 'datetime': '2024-07-10T13:15:44.050675', 'gensim': '4.3.2', 'python': '3.10.12 (main, Nov 20 2023, 15:14:05) [GCC 11.4.0]', 'platform': 'Linux-6.1.85+-x86_64-with-glibc2.35', 'event': 'prepare_vocab'}\n",
            "INFO:gensim.models.word2vec:estimated required memory for 12924 words and 300 dimensions: 37479600 bytes\n",
            "INFO:gensim.models.word2vec:resetting layer weights\n",
            "INFO:gensim.utils:Word2Vec lifecycle event {'update': False, 'trim_rule': 'None', 'datetime': '2024-07-10T13:15:44.207369', 'gensim': '4.3.2', 'python': '3.10.12 (main, Nov 20 2023, 15:14:05) [GCC 11.4.0]', 'platform': 'Linux-6.1.85+-x86_64-with-glibc2.35', 'event': 'build_vocab'}\n",
            "INFO:gensim.utils:Word2Vec lifecycle event {'msg': 'training model with 3 workers on 12924 vocabulary and 300 features, using sg=1 hs=0 sample=0.001 negative=5 window=5 shrink_windows=True', 'datetime': '2024-07-10T13:15:44.209615', 'gensim': '4.3.2', 'python': '3.10.12 (main, Nov 20 2023, 15:14:05) [GCC 11.4.0]', 'platform': 'Linux-6.1.85+-x86_64-with-glibc2.35', 'event': 'train'}\n",
            "INFO:gensim.models.word2vec:EPOCH 0 - PROGRESS: at 24.09% examples, 110694 words/s, in_qsize 5, out_qsize 0\n",
            "INFO:gensim.models.word2vec:EPOCH 0 - PROGRESS: at 59.29% examples, 134730 words/s, in_qsize 5, out_qsize 0\n",
            "INFO:gensim.models.word2vec:EPOCH 0 - PROGRESS: at 88.85% examples, 137541 words/s, in_qsize 5, out_qsize 0\n",
            "DEBUG:gensim.models.word2vec:job loop exiting, total 55 jobs\n",
            "DEBUG:gensim.models.word2vec:worker exiting, processed 21 jobs\n",
            "DEBUG:gensim.models.word2vec:worker thread finished; awaiting finish of 2 more threads\n",
            "DEBUG:gensim.models.word2vec:worker exiting, processed 17 jobs\n",
            "DEBUG:gensim.models.word2vec:worker thread finished; awaiting finish of 1 more threads\n",
            "DEBUG:gensim.models.word2vec:worker thread finished; awaiting finish of 0 more threads\n",
            "INFO:gensim.models.word2vec:EPOCH 0: training on 540242 raw words (486128 effective words) took 3.5s, 139484 effective words/s\n",
            "DEBUG:gensim.models.word2vec:worker exiting, processed 17 jobs\n"
          ]
        },
        {
          "output_type": "stream",
          "name": "stdout",
          "text": [
            "Loss após a época 0: 0.0\n"
          ]
        },
        {
          "output_type": "stream",
          "name": "stderr",
          "text": [
            "INFO:gensim.models.word2vec:EPOCH 1 - PROGRESS: at 31.50% examples, 150643 words/s, in_qsize 5, out_qsize 0\n",
            "INFO:gensim.models.word2vec:EPOCH 1 - PROGRESS: at 66.67% examples, 150776 words/s, in_qsize 5, out_qsize 0\n",
            "INFO:gensim.models.word2vec:EPOCH 1 - PROGRESS: at 88.85% examples, 132886 words/s, in_qsize 5, out_qsize 0\n",
            "DEBUG:gensim.models.word2vec:job loop exiting, total 55 jobs\n",
            "DEBUG:gensim.models.word2vec:worker exiting, processed 19 jobs\n",
            "DEBUG:gensim.models.word2vec:worker thread finished; awaiting finish of 2 more threads\n",
            "DEBUG:gensim.models.word2vec:worker exiting, processed 17 jobs\n",
            "DEBUG:gensim.models.word2vec:worker thread finished; awaiting finish of 1 more threads\n",
            "DEBUG:gensim.models.word2vec:worker exiting, processed 19 jobs\n",
            "DEBUG:gensim.models.word2vec:worker thread finished; awaiting finish of 0 more threads\n",
            "INFO:gensim.models.word2vec:EPOCH 1: training on 540242 raw words (486033 effective words) took 3.8s, 129505 effective words/s\n"
          ]
        },
        {
          "output_type": "stream",
          "name": "stdout",
          "text": [
            "Loss após a época 1: 0.0\n"
          ]
        },
        {
          "output_type": "stream",
          "name": "stderr",
          "text": [
            "INFO:gensim.models.word2vec:EPOCH 2 - PROGRESS: at 18.54% examples, 82802 words/s, in_qsize 5, out_qsize 0\n",
            "INFO:gensim.models.word2vec:EPOCH 2 - PROGRESS: at 42.66% examples, 97715 words/s, in_qsize 5, out_qsize 0\n",
            "INFO:gensim.models.word2vec:EPOCH 2 - PROGRESS: at 61.16% examples, 94928 words/s, in_qsize 5, out_qsize 0\n",
            "INFO:gensim.models.word2vec:EPOCH 2 - PROGRESS: at 90.67% examples, 104772 words/s, in_qsize 4, out_qsize 1\n",
            "DEBUG:gensim.models.word2vec:job loop exiting, total 55 jobs\n",
            "DEBUG:gensim.models.word2vec:worker exiting, processed 18 jobs\n",
            "DEBUG:gensim.models.word2vec:worker thread finished; awaiting finish of 2 more threads\n",
            "DEBUG:gensim.models.word2vec:worker exiting, processed 19 jobs\n",
            "DEBUG:gensim.models.word2vec:worker thread finished; awaiting finish of 1 more threads\n",
            "DEBUG:gensim.models.word2vec:worker exiting, processed 18 jobs\n",
            "DEBUG:gensim.models.word2vec:worker thread finished; awaiting finish of 0 more threads\n",
            "INFO:gensim.models.word2vec:EPOCH 2: training on 540242 raw words (486059 effective words) took 4.4s, 110555 effective words/s\n"
          ]
        },
        {
          "output_type": "stream",
          "name": "stdout",
          "text": [
            "Loss após a época 2: 0.0\n"
          ]
        },
        {
          "output_type": "stream",
          "name": "stderr",
          "text": [
            "INFO:gensim.models.word2vec:EPOCH 3 - PROGRESS: at 31.52% examples, 149455 words/s, in_qsize 5, out_qsize 0\n",
            "INFO:gensim.models.word2vec:EPOCH 3 - PROGRESS: at 66.67% examples, 157116 words/s, in_qsize 5, out_qsize 0\n",
            "DEBUG:gensim.models.word2vec:job loop exiting, total 55 jobs\n",
            "DEBUG:gensim.models.word2vec:worker exiting, processed 18 jobs\n",
            "DEBUG:gensim.models.word2vec:worker thread finished; awaiting finish of 2 more threads\n",
            "DEBUG:gensim.models.word2vec:worker exiting, processed 16 jobs\n",
            "DEBUG:gensim.models.word2vec:worker thread finished; awaiting finish of 1 more threads\n",
            "DEBUG:gensim.models.word2vec:worker exiting, processed 21 jobs\n",
            "DEBUG:gensim.models.word2vec:worker thread finished; awaiting finish of 0 more threads\n",
            "INFO:gensim.models.word2vec:EPOCH 3: training on 540242 raw words (486061 effective words) took 3.0s, 162391 effective words/s\n"
          ]
        },
        {
          "output_type": "stream",
          "name": "stdout",
          "text": [
            "Loss após a época 3: 0.0\n"
          ]
        },
        {
          "output_type": "stream",
          "name": "stderr",
          "text": [
            "INFO:gensim.models.word2vec:EPOCH 4 - PROGRESS: at 31.52% examples, 148508 words/s, in_qsize 5, out_qsize 0\n",
            "INFO:gensim.models.word2vec:EPOCH 4 - PROGRESS: at 68.53% examples, 161406 words/s, in_qsize 5, out_qsize 0\n",
            "DEBUG:gensim.models.word2vec:job loop exiting, total 55 jobs\n",
            "DEBUG:gensim.models.word2vec:worker exiting, processed 19 jobs\n",
            "DEBUG:gensim.models.word2vec:worker thread finished; awaiting finish of 2 more threads\n",
            "DEBUG:gensim.models.word2vec:worker exiting, processed 17 jobs\n",
            "DEBUG:gensim.models.word2vec:worker thread finished; awaiting finish of 1 more threads\n",
            "DEBUG:gensim.models.word2vec:worker exiting, processed 19 jobs\n",
            "DEBUG:gensim.models.word2vec:worker thread finished; awaiting finish of 0 more threads\n",
            "INFO:gensim.models.word2vec:EPOCH 4: training on 540242 raw words (486135 effective words) took 3.0s, 162376 effective words/s\n"
          ]
        },
        {
          "output_type": "stream",
          "name": "stdout",
          "text": [
            "Loss após a época 4: 0.0\n"
          ]
        },
        {
          "output_type": "stream",
          "name": "stderr",
          "text": [
            "INFO:gensim.models.word2vec:EPOCH 5 - PROGRESS: at 31.52% examples, 148442 words/s, in_qsize 5, out_qsize 0\n",
            "INFO:gensim.models.word2vec:EPOCH 5 - PROGRESS: at 66.69% examples, 156198 words/s, in_qsize 6, out_qsize 0\n",
            "DEBUG:gensim.models.word2vec:job loop exiting, total 55 jobs\n",
            "INFO:gensim.models.word2vec:EPOCH 5 - PROGRESS: at 96.23% examples, 147362 words/s, in_qsize 3, out_qsize 0\n",
            "DEBUG:gensim.models.word2vec:worker exiting, processed 19 jobs\n",
            "DEBUG:gensim.models.word2vec:worker thread finished; awaiting finish of 2 more threads\n",
            "DEBUG:gensim.models.word2vec:worker exiting, processed 17 jobs\n",
            "DEBUG:gensim.models.word2vec:worker thread finished; awaiting finish of 1 more threads\n",
            "DEBUG:gensim.models.word2vec:worker exiting, processed 19 jobs\n",
            "DEBUG:gensim.models.word2vec:worker thread finished; awaiting finish of 0 more threads\n",
            "INFO:gensim.models.word2vec:EPOCH 5: training on 540242 raw words (486164 effective words) took 3.3s, 148676 effective words/s\n"
          ]
        },
        {
          "output_type": "stream",
          "name": "stdout",
          "text": [
            "Loss após a época 5: 0.0\n"
          ]
        },
        {
          "output_type": "stream",
          "name": "stderr",
          "text": [
            "INFO:gensim.models.word2vec:EPOCH 6 - PROGRESS: at 18.54% examples, 82261 words/s, in_qsize 5, out_qsize 0\n",
            "INFO:gensim.models.word2vec:EPOCH 6 - PROGRESS: at 38.94% examples, 90104 words/s, in_qsize 5, out_qsize 0\n",
            "INFO:gensim.models.word2vec:EPOCH 6 - PROGRESS: at 61.16% examples, 92702 words/s, in_qsize 5, out_qsize 0\n",
            "INFO:gensim.models.word2vec:EPOCH 6 - PROGRESS: at 79.60% examples, 91403 words/s, in_qsize 5, out_qsize 0\n",
            "DEBUG:gensim.models.word2vec:job loop exiting, total 55 jobs\n",
            "DEBUG:gensim.models.word2vec:worker exiting, processed 19 jobs\n",
            "DEBUG:gensim.models.word2vec:worker thread finished; awaiting finish of 2 more threads\n",
            "DEBUG:gensim.models.word2vec:worker exiting, processed 18 jobs\n",
            "DEBUG:gensim.models.word2vec:worker thread finished; awaiting finish of 1 more threads\n",
            "DEBUG:gensim.models.word2vec:worker exiting, processed 18 jobs\n",
            "DEBUG:gensim.models.word2vec:worker thread finished; awaiting finish of 0 more threads\n",
            "INFO:gensim.models.word2vec:EPOCH 6: training on 540242 raw words (486180 effective words) took 5.1s, 96176 effective words/s\n"
          ]
        },
        {
          "output_type": "stream",
          "name": "stdout",
          "text": [
            "Loss após a época 6: 0.0\n"
          ]
        },
        {
          "output_type": "stream",
          "name": "stderr",
          "text": [
            "INFO:gensim.models.word2vec:EPOCH 7 - PROGRESS: at 27.82% examples, 128148 words/s, in_qsize 5, out_qsize 0\n",
            "INFO:gensim.models.word2vec:EPOCH 7 - PROGRESS: at 57.46% examples, 128680 words/s, in_qsize 5, out_qsize 0\n",
            "INFO:gensim.models.word2vec:EPOCH 7 - PROGRESS: at 90.69% examples, 133840 words/s, in_qsize 5, out_qsize 0\n",
            "DEBUG:gensim.models.word2vec:job loop exiting, total 55 jobs\n",
            "DEBUG:gensim.models.word2vec:worker exiting, processed 19 jobs\n",
            "DEBUG:gensim.models.word2vec:worker thread finished; awaiting finish of 2 more threads\n",
            "DEBUG:gensim.models.word2vec:worker thread finished; awaiting finish of 1 more threads\n",
            "DEBUG:gensim.models.word2vec:worker exiting, processed 18 jobs\n",
            "DEBUG:gensim.models.word2vec:worker exiting, processed 18 jobs\n",
            "DEBUG:gensim.models.word2vec:worker thread finished; awaiting finish of 0 more threads\n",
            "INFO:gensim.models.word2vec:EPOCH 7: training on 540242 raw words (486256 effective words) took 3.5s, 139064 effective words/s\n"
          ]
        },
        {
          "output_type": "stream",
          "name": "stdout",
          "text": [
            "Loss após a época 7: 0.0\n"
          ]
        },
        {
          "output_type": "stream",
          "name": "stderr",
          "text": [
            "INFO:gensim.models.word2vec:EPOCH 8 - PROGRESS: at 31.50% examples, 149457 words/s, in_qsize 5, out_qsize 0\n",
            "INFO:gensim.models.word2vec:EPOCH 8 - PROGRESS: at 61.16% examples, 145584 words/s, in_qsize 5, out_qsize 0\n",
            "DEBUG:gensim.models.word2vec:job loop exiting, total 55 jobs\n",
            "INFO:gensim.models.word2vec:EPOCH 8 - PROGRESS: at 92.54% examples, 145957 words/s, in_qsize 5, out_qsize 0\n",
            "DEBUG:gensim.models.word2vec:worker exiting, processed 18 jobs\n",
            "DEBUG:gensim.models.word2vec:worker thread finished; awaiting finish of 2 more threads\n",
            "DEBUG:gensim.models.word2vec:worker exiting, processed 20 jobs\n",
            "DEBUG:gensim.models.word2vec:worker thread finished; awaiting finish of 1 more threads\n",
            "DEBUG:gensim.models.word2vec:worker exiting, processed 17 jobs\n",
            "DEBUG:gensim.models.word2vec:worker thread finished; awaiting finish of 0 more threads\n",
            "INFO:gensim.models.word2vec:EPOCH 8: training on 540242 raw words (485981 effective words) took 3.2s, 150141 effective words/s\n"
          ]
        },
        {
          "output_type": "stream",
          "name": "stdout",
          "text": [
            "Loss após a época 8: 0.0\n"
          ]
        },
        {
          "output_type": "stream",
          "name": "stderr",
          "text": [
            "INFO:gensim.models.word2vec:EPOCH 9 - PROGRESS: at 31.52% examples, 144465 words/s, in_qsize 4, out_qsize 1\n",
            "INFO:gensim.models.word2vec:EPOCH 9 - PROGRESS: at 61.16% examples, 144001 words/s, in_qsize 6, out_qsize 0\n",
            "DEBUG:gensim.models.word2vec:job loop exiting, total 55 jobs\n",
            "INFO:gensim.models.word2vec:EPOCH 9 - PROGRESS: at 92.52% examples, 146353 words/s, in_qsize 5, out_qsize 0\n",
            "DEBUG:gensim.models.word2vec:worker exiting, processed 17 jobs\n",
            "DEBUG:gensim.models.word2vec:worker thread finished; awaiting finish of 2 more threads\n",
            "DEBUG:gensim.models.word2vec:worker exiting, processed 19 jobs\n",
            "DEBUG:gensim.models.word2vec:worker thread finished; awaiting finish of 1 more threads\n",
            "DEBUG:gensim.models.word2vec:worker exiting, processed 19 jobs\n",
            "DEBUG:gensim.models.word2vec:worker thread finished; awaiting finish of 0 more threads\n",
            "INFO:gensim.models.word2vec:EPOCH 9: training on 540242 raw words (486068 effective words) took 3.4s, 142436 effective words/s\n"
          ]
        },
        {
          "output_type": "stream",
          "name": "stdout",
          "text": [
            "Loss após a época 9: 0.0\n"
          ]
        },
        {
          "output_type": "stream",
          "name": "stderr",
          "text": [
            "INFO:gensim.models.word2vec:EPOCH 10 - PROGRESS: at 14.84% examples, 71748 words/s, in_qsize 6, out_qsize 0\n",
            "INFO:gensim.models.word2vec:EPOCH 10 - PROGRESS: at 37.08% examples, 88616 words/s, in_qsize 5, out_qsize 0\n",
            "INFO:gensim.models.word2vec:EPOCH 10 - PROGRESS: at 57.46% examples, 90695 words/s, in_qsize 5, out_qsize 0\n",
            "INFO:gensim.models.word2vec:EPOCH 10 - PROGRESS: at 79.60% examples, 90522 words/s, in_qsize 5, out_qsize 0\n",
            "DEBUG:gensim.models.word2vec:job loop exiting, total 55 jobs\n",
            "DEBUG:gensim.models.word2vec:worker exiting, processed 19 jobs\n",
            "DEBUG:gensim.models.word2vec:worker thread finished; awaiting finish of 2 more threads\n",
            "DEBUG:gensim.models.word2vec:worker exiting, processed 18 jobs\n",
            "DEBUG:gensim.models.word2vec:worker thread finished; awaiting finish of 1 more threads\n",
            "DEBUG:gensim.models.word2vec:worker exiting, processed 18 jobs\n",
            "DEBUG:gensim.models.word2vec:worker thread finished; awaiting finish of 0 more threads\n",
            "INFO:gensim.models.word2vec:EPOCH 10: training on 540242 raw words (486214 effective words) took 5.1s, 95932 effective words/s\n"
          ]
        },
        {
          "output_type": "stream",
          "name": "stdout",
          "text": [
            "Loss após a época 10: 0.0\n"
          ]
        },
        {
          "output_type": "stream",
          "name": "stderr",
          "text": [
            "INFO:gensim.models.word2vec:EPOCH 11 - PROGRESS: at 31.50% examples, 142011 words/s, in_qsize 5, out_qsize 0\n",
            "INFO:gensim.models.word2vec:EPOCH 11 - PROGRESS: at 64.83% examples, 143700 words/s, in_qsize 5, out_qsize 0\n",
            "DEBUG:gensim.models.word2vec:job loop exiting, total 55 jobs\n",
            "DEBUG:gensim.models.word2vec:worker exiting, processed 18 jobs\n",
            "DEBUG:gensim.models.word2vec:worker thread finished; awaiting finish of 2 more threads\n",
            "DEBUG:gensim.models.word2vec:worker exiting, processed 20 jobs\n",
            "DEBUG:gensim.models.word2vec:worker thread finished; awaiting finish of 1 more threads\n",
            "DEBUG:gensim.models.word2vec:worker exiting, processed 17 jobs\n",
            "DEBUG:gensim.models.word2vec:worker thread finished; awaiting finish of 0 more threads\n",
            "INFO:gensim.models.word2vec:EPOCH 11: training on 540242 raw words (486162 effective words) took 3.1s, 156034 effective words/s\n"
          ]
        },
        {
          "output_type": "stream",
          "name": "stdout",
          "text": [
            "Loss após a época 11: 0.0\n"
          ]
        },
        {
          "output_type": "stream",
          "name": "stderr",
          "text": [
            "INFO:gensim.models.word2vec:EPOCH 12 - PROGRESS: at 31.52% examples, 152325 words/s, in_qsize 5, out_qsize 0\n",
            "INFO:gensim.models.word2vec:EPOCH 12 - PROGRESS: at 66.69% examples, 160484 words/s, in_qsize 5, out_qsize 0\n",
            "DEBUG:gensim.models.word2vec:job loop exiting, total 55 jobs\n",
            "DEBUG:gensim.models.word2vec:worker exiting, processed 19 jobs\n",
            "DEBUG:gensim.models.word2vec:worker thread finished; awaiting finish of 2 more threads\n",
            "DEBUG:gensim.models.word2vec:worker exiting, processed 18 jobs\n",
            "DEBUG:gensim.models.word2vec:worker thread finished; awaiting finish of 1 more threads\n",
            "DEBUG:gensim.models.word2vec:worker thread finished; awaiting finish of 0 more threads\n",
            "INFO:gensim.models.word2vec:EPOCH 12: training on 540242 raw words (486255 effective words) took 2.9s, 165450 effective words/s\n",
            "DEBUG:gensim.models.word2vec:worker exiting, processed 18 jobs\n"
          ]
        },
        {
          "output_type": "stream",
          "name": "stdout",
          "text": [
            "Loss após a época 12: 0.0\n"
          ]
        },
        {
          "output_type": "stream",
          "name": "stderr",
          "text": [
            "INFO:gensim.models.word2vec:EPOCH 13 - PROGRESS: at 33.36% examples, 155506 words/s, in_qsize 5, out_qsize 0\n",
            "INFO:gensim.models.word2vec:EPOCH 13 - PROGRESS: at 68.51% examples, 161472 words/s, in_qsize 5, out_qsize 0\n",
            "DEBUG:gensim.models.word2vec:job loop exiting, total 55 jobs\n",
            "DEBUG:gensim.models.word2vec:worker exiting, processed 19 jobs\n",
            "DEBUG:gensim.models.word2vec:worker thread finished; awaiting finish of 2 more threads\n",
            "DEBUG:gensim.models.word2vec:worker exiting, processed 18 jobs\n",
            "DEBUG:gensim.models.word2vec:worker thread finished; awaiting finish of 1 more threads\n",
            "DEBUG:gensim.models.word2vec:worker exiting, processed 18 jobs\n",
            "DEBUG:gensim.models.word2vec:worker thread finished; awaiting finish of 0 more threads\n",
            "INFO:gensim.models.word2vec:EPOCH 13: training on 540242 raw words (486076 effective words) took 2.9s, 165698 effective words/s\n"
          ]
        },
        {
          "output_type": "stream",
          "name": "stdout",
          "text": [
            "Loss após a época 13: 0.0\n"
          ]
        },
        {
          "output_type": "stream",
          "name": "stderr",
          "text": [
            "INFO:gensim.models.word2vec:EPOCH 14 - PROGRESS: at 29.66% examples, 143119 words/s, in_qsize 5, out_qsize 0\n",
            "INFO:gensim.models.word2vec:EPOCH 14 - PROGRESS: at 50.07% examples, 119411 words/s, in_qsize 6, out_qsize 0\n",
            "INFO:gensim.models.word2vec:EPOCH 14 - PROGRESS: at 62.98% examples, 99701 words/s, in_qsize 5, out_qsize 1\n",
            "INFO:gensim.models.word2vec:EPOCH 14 - PROGRESS: at 87.00% examples, 99059 words/s, in_qsize 6, out_qsize 1\n",
            "DEBUG:gensim.models.word2vec:job loop exiting, total 55 jobs\n",
            "DEBUG:gensim.models.word2vec:worker exiting, processed 18 jobs\n",
            "DEBUG:gensim.models.word2vec:worker thread finished; awaiting finish of 2 more threads\n",
            "DEBUG:gensim.models.word2vec:worker exiting, processed 19 jobs\n",
            "DEBUG:gensim.models.word2vec:worker thread finished; awaiting finish of 1 more threads\n",
            "DEBUG:gensim.models.word2vec:worker exiting, processed 18 jobs\n",
            "DEBUG:gensim.models.word2vec:worker thread finished; awaiting finish of 0 more threads\n",
            "INFO:gensim.models.word2vec:EPOCH 14: training on 540242 raw words (486191 effective words) took 4.7s, 102543 effective words/s\n"
          ]
        },
        {
          "output_type": "stream",
          "name": "stdout",
          "text": [
            "Loss após a época 14: 0.0\n"
          ]
        },
        {
          "output_type": "stream",
          "name": "stderr",
          "text": [
            "INFO:gensim.models.word2vec:EPOCH 15 - PROGRESS: at 20.39% examples, 98896 words/s, in_qsize 5, out_qsize 0\n",
            "INFO:gensim.models.word2vec:EPOCH 15 - PROGRESS: at 51.91% examples, 124967 words/s, in_qsize 5, out_qsize 0\n",
            "INFO:gensim.models.word2vec:EPOCH 15 - PROGRESS: at 86.98% examples, 135242 words/s, in_qsize 5, out_qsize 0\n",
            "DEBUG:gensim.models.word2vec:job loop exiting, total 55 jobs\n",
            "DEBUG:gensim.models.word2vec:worker exiting, processed 19 jobs\n",
            "DEBUG:gensim.models.word2vec:worker thread finished; awaiting finish of 2 more threads\n",
            "DEBUG:gensim.models.word2vec:worker exiting, processed 17 jobs\n",
            "DEBUG:gensim.models.word2vec:worker thread finished; awaiting finish of 1 more threads\n",
            "DEBUG:gensim.models.word2vec:worker exiting, processed 19 jobs\n",
            "DEBUG:gensim.models.word2vec:worker thread finished; awaiting finish of 0 more threads\n",
            "INFO:gensim.models.word2vec:EPOCH 15: training on 540242 raw words (486319 effective words) took 3.4s, 141703 effective words/s\n"
          ]
        },
        {
          "output_type": "stream",
          "name": "stdout",
          "text": [
            "Loss após a época 15: 0.0\n"
          ]
        },
        {
          "output_type": "stream",
          "name": "stderr",
          "text": [
            "INFO:gensim.models.word2vec:EPOCH 16 - PROGRESS: at 22.25% examples, 105686 words/s, in_qsize 5, out_qsize 0\n",
            "INFO:gensim.models.word2vec:EPOCH 16 - PROGRESS: at 48.21% examples, 105409 words/s, in_qsize 5, out_qsize 0\n",
            "INFO:gensim.models.word2vec:EPOCH 16 - PROGRESS: at 81.44% examples, 122664 words/s, in_qsize 6, out_qsize 1\n",
            "DEBUG:gensim.models.word2vec:job loop exiting, total 55 jobs\n",
            "DEBUG:gensim.models.word2vec:worker exiting, processed 17 jobs\n",
            "DEBUG:gensim.models.word2vec:worker thread finished; awaiting finish of 2 more threads\n",
            "DEBUG:gensim.models.word2vec:worker exiting, processed 20 jobs\n",
            "DEBUG:gensim.models.word2vec:worker thread finished; awaiting finish of 1 more threads\n",
            "DEBUG:gensim.models.word2vec:worker exiting, processed 18 jobs\n",
            "DEBUG:gensim.models.word2vec:worker thread finished; awaiting finish of 0 more threads\n",
            "INFO:gensim.models.word2vec:EPOCH 16: training on 540242 raw words (486185 effective words) took 3.7s, 132439 effective words/s\n"
          ]
        },
        {
          "output_type": "stream",
          "name": "stdout",
          "text": [
            "Loss após a época 16: 0.0\n"
          ]
        },
        {
          "output_type": "stream",
          "name": "stderr",
          "text": [
            "INFO:gensim.models.word2vec:EPOCH 17 - PROGRESS: at 33.36% examples, 155811 words/s, in_qsize 5, out_qsize 0\n",
            "INFO:gensim.models.word2vec:EPOCH 17 - PROGRESS: at 70.35% examples, 163396 words/s, in_qsize 5, out_qsize 0\n",
            "DEBUG:gensim.models.word2vec:job loop exiting, total 55 jobs\n",
            "DEBUG:gensim.models.word2vec:worker exiting, processed 19 jobs\n",
            "DEBUG:gensim.models.word2vec:worker thread finished; awaiting finish of 2 more threads\n",
            "DEBUG:gensim.models.word2vec:worker exiting, processed 17 jobs\n",
            "DEBUG:gensim.models.word2vec:worker thread finished; awaiting finish of 1 more threads\n",
            "DEBUG:gensim.models.word2vec:worker exiting, processed 19 jobs\n",
            "DEBUG:gensim.models.word2vec:worker thread finished; awaiting finish of 0 more threads\n",
            "INFO:gensim.models.word2vec:EPOCH 17: training on 540242 raw words (486205 effective words) took 2.9s, 166198 effective words/s\n"
          ]
        },
        {
          "output_type": "stream",
          "name": "stdout",
          "text": [
            "Loss após a época 17: 0.0\n"
          ]
        },
        {
          "output_type": "stream",
          "name": "stderr",
          "text": [
            "INFO:gensim.models.word2vec:EPOCH 18 - PROGRESS: at 27.82% examples, 124325 words/s, in_qsize 6, out_qsize 0\n",
            "INFO:gensim.models.word2vec:EPOCH 18 - PROGRESS: at 48.21% examples, 111106 words/s, in_qsize 5, out_qsize 0\n",
            "INFO:gensim.models.word2vec:EPOCH 18 - PROGRESS: at 66.69% examples, 103398 words/s, in_qsize 5, out_qsize 0\n",
            "INFO:gensim.models.word2vec:EPOCH 18 - PROGRESS: at 88.85% examples, 104301 words/s, in_qsize 5, out_qsize 0\n",
            "DEBUG:gensim.models.word2vec:job loop exiting, total 55 jobs\n",
            "DEBUG:gensim.models.word2vec:worker exiting, processed 17 jobs\n",
            "DEBUG:gensim.models.word2vec:worker thread finished; awaiting finish of 2 more threads\n",
            "DEBUG:gensim.models.word2vec:worker thread finished; awaiting finish of 1 more threads\n",
            "DEBUG:gensim.models.word2vec:worker exiting, processed 19 jobs\n",
            "DEBUG:gensim.models.word2vec:worker exiting, processed 19 jobs\n",
            "DEBUG:gensim.models.word2vec:worker thread finished; awaiting finish of 0 more threads\n",
            "INFO:gensim.models.word2vec:EPOCH 18: training on 540242 raw words (486201 effective words) took 4.6s, 106535 effective words/s\n"
          ]
        },
        {
          "output_type": "stream",
          "name": "stdout",
          "text": [
            "Loss após a época 18: 0.0\n"
          ]
        },
        {
          "output_type": "stream",
          "name": "stderr",
          "text": [
            "INFO:gensim.models.word2vec:EPOCH 19 - PROGRESS: at 18.55% examples, 72914 words/s, in_qsize 4, out_qsize 1\n",
            "INFO:gensim.models.word2vec:EPOCH 19 - PROGRESS: at 55.60% examples, 115859 words/s, in_qsize 5, out_qsize 0\n",
            "DEBUG:gensim.models.word2vec:job loop exiting, total 55 jobs\n",
            "INFO:gensim.models.word2vec:EPOCH 19 - PROGRESS: at 94.38% examples, 135057 words/s, in_qsize 4, out_qsize 0\n",
            "DEBUG:gensim.models.word2vec:worker exiting, processed 19 jobs\n",
            "DEBUG:gensim.models.word2vec:worker thread finished; awaiting finish of 2 more threads\n",
            "DEBUG:gensim.models.word2vec:worker exiting, processed 17 jobs\n",
            "DEBUG:gensim.models.word2vec:worker thread finished; awaiting finish of 1 more threads\n",
            "DEBUG:gensim.models.word2vec:worker exiting, processed 19 jobs\n",
            "DEBUG:gensim.models.word2vec:worker thread finished; awaiting finish of 0 more threads\n",
            "INFO:gensim.models.word2vec:EPOCH 19: training on 540242 raw words (486117 effective words) took 3.5s, 138339 effective words/s\n"
          ]
        },
        {
          "output_type": "stream",
          "name": "stdout",
          "text": [
            "Loss após a época 19: 0.0\n"
          ]
        },
        {
          "output_type": "stream",
          "name": "stderr",
          "text": [
            "INFO:gensim.models.word2vec:EPOCH 20 - PROGRESS: at 33.36% examples, 158960 words/s, in_qsize 5, out_qsize 0\n",
            "INFO:gensim.models.word2vec:EPOCH 20 - PROGRESS: at 68.53% examples, 163558 words/s, in_qsize 6, out_qsize 0\n",
            "DEBUG:gensim.models.word2vec:job loop exiting, total 55 jobs\n",
            "DEBUG:gensim.models.word2vec:worker exiting, processed 17 jobs\n",
            "DEBUG:gensim.models.word2vec:worker thread finished; awaiting finish of 2 more threads\n",
            "DEBUG:gensim.models.word2vec:worker exiting, processed 18 jobs\n",
            "DEBUG:gensim.models.word2vec:worker thread finished; awaiting finish of 1 more threads\n",
            "DEBUG:gensim.models.word2vec:worker exiting, processed 20 jobs\n",
            "DEBUG:gensim.models.word2vec:worker thread finished; awaiting finish of 0 more threads\n",
            "INFO:gensim.models.word2vec:EPOCH 20: training on 540242 raw words (486285 effective words) took 2.9s, 169485 effective words/s\n"
          ]
        },
        {
          "output_type": "stream",
          "name": "stdout",
          "text": [
            "Loss após a época 20: 0.0\n"
          ]
        },
        {
          "output_type": "stream",
          "name": "stderr",
          "text": [
            "INFO:gensim.models.word2vec:EPOCH 21 - PROGRESS: at 35.22% examples, 153599 words/s, in_qsize 5, out_qsize 0\n",
            "INFO:gensim.models.word2vec:EPOCH 21 - PROGRESS: at 74.04% examples, 162525 words/s, in_qsize 5, out_qsize 0\n",
            "DEBUG:gensim.models.word2vec:job loop exiting, total 55 jobs\n",
            "DEBUG:gensim.models.word2vec:worker exiting, processed 19 jobs\n",
            "DEBUG:gensim.models.word2vec:worker thread finished; awaiting finish of 2 more threads\n",
            "DEBUG:gensim.models.word2vec:worker exiting, processed 18 jobs\n",
            "DEBUG:gensim.models.word2vec:worker thread finished; awaiting finish of 1 more threads\n",
            "DEBUG:gensim.models.word2vec:worker exiting, processed 18 jobs\n",
            "DEBUG:gensim.models.word2vec:worker thread finished; awaiting finish of 0 more threads\n",
            "INFO:gensim.models.word2vec:EPOCH 21: training on 540242 raw words (486275 effective words) took 2.9s, 169398 effective words/s\n"
          ]
        },
        {
          "output_type": "stream",
          "name": "stdout",
          "text": [
            "Loss após a época 21: 0.0\n"
          ]
        },
        {
          "output_type": "stream",
          "name": "stderr",
          "text": [
            "INFO:gensim.models.word2vec:EPOCH 22 - PROGRESS: at 33.36% examples, 161423 words/s, in_qsize 5, out_qsize 0\n",
            "INFO:gensim.models.word2vec:EPOCH 22 - PROGRESS: at 68.53% examples, 164179 words/s, in_qsize 5, out_qsize 0\n",
            "INFO:gensim.models.word2vec:EPOCH 22 - PROGRESS: at 90.67% examples, 140896 words/s, in_qsize 5, out_qsize 0\n",
            "DEBUG:gensim.models.word2vec:job loop exiting, total 55 jobs\n",
            "DEBUG:gensim.models.word2vec:worker exiting, processed 18 jobs\n",
            "DEBUG:gensim.models.word2vec:worker thread finished; awaiting finish of 2 more threads\n",
            "DEBUG:gensim.models.word2vec:worker exiting, processed 19 jobs\n",
            "DEBUG:gensim.models.word2vec:worker thread finished; awaiting finish of 1 more threads\n",
            "DEBUG:gensim.models.word2vec:worker exiting, processed 18 jobs\n",
            "DEBUG:gensim.models.word2vec:worker thread finished; awaiting finish of 0 more threads\n",
            "INFO:gensim.models.word2vec:EPOCH 22: training on 540242 raw words (486096 effective words) took 3.5s, 138302 effective words/s\n"
          ]
        },
        {
          "output_type": "stream",
          "name": "stdout",
          "text": [
            "Loss após a época 22: 0.0\n"
          ]
        },
        {
          "output_type": "stream",
          "name": "stderr",
          "text": [
            "INFO:gensim.models.word2vec:EPOCH 23 - PROGRESS: at 14.84% examples, 71512 words/s, in_qsize 5, out_qsize 0\n",
            "INFO:gensim.models.word2vec:EPOCH 23 - PROGRESS: at 33.36% examples, 79951 words/s, in_qsize 5, out_qsize 0\n",
            "INFO:gensim.models.word2vec:EPOCH 23 - PROGRESS: at 51.91% examples, 75960 words/s, in_qsize 6, out_qsize 0\n",
            "INFO:gensim.models.word2vec:EPOCH 23 - PROGRESS: at 75.91% examples, 84824 words/s, in_qsize 5, out_qsize 0\n",
            "DEBUG:gensim.models.word2vec:job loop exiting, total 55 jobs\n",
            "DEBUG:gensim.models.word2vec:worker exiting, processed 18 jobs\n",
            "DEBUG:gensim.models.word2vec:worker thread finished; awaiting finish of 2 more threads\n",
            "DEBUG:gensim.models.word2vec:worker exiting, processed 19 jobs\n",
            "DEBUG:gensim.models.word2vec:worker thread finished; awaiting finish of 1 more threads\n",
            "DEBUG:gensim.models.word2vec:worker exiting, processed 18 jobs\n",
            "DEBUG:gensim.models.word2vec:worker thread finished; awaiting finish of 0 more threads\n",
            "INFO:gensim.models.word2vec:EPOCH 23: training on 540242 raw words (486107 effective words) took 5.0s, 97282 effective words/s\n"
          ]
        },
        {
          "output_type": "stream",
          "name": "stdout",
          "text": [
            "Loss após a época 23: 0.0\n"
          ]
        },
        {
          "output_type": "stream",
          "name": "stderr",
          "text": [
            "INFO:gensim.models.word2vec:EPOCH 24 - PROGRESS: at 35.22% examples, 157659 words/s, in_qsize 5, out_qsize 0\n",
            "INFO:gensim.models.word2vec:EPOCH 24 - PROGRESS: at 72.19% examples, 167325 words/s, in_qsize 5, out_qsize 0\n",
            "DEBUG:gensim.models.word2vec:job loop exiting, total 55 jobs\n",
            "DEBUG:gensim.models.word2vec:worker exiting, processed 17 jobs\n",
            "DEBUG:gensim.models.word2vec:worker thread finished; awaiting finish of 2 more threads\n",
            "DEBUG:gensim.models.word2vec:worker exiting, processed 19 jobs\n",
            "DEBUG:gensim.models.word2vec:worker thread finished; awaiting finish of 1 more threads\n",
            "DEBUG:gensim.models.word2vec:worker thread finished; awaiting finish of 0 more threads\n",
            "INFO:gensim.models.word2vec:EPOCH 24: training on 540242 raw words (486229 effective words) took 2.8s, 171716 effective words/s\n",
            "DEBUG:gensim.models.word2vec:worker exiting, processed 19 jobs\n"
          ]
        },
        {
          "output_type": "stream",
          "name": "stdout",
          "text": [
            "Loss após a época 24: 0.0\n"
          ]
        },
        {
          "output_type": "stream",
          "name": "stderr",
          "text": [
            "INFO:gensim.models.word2vec:EPOCH 25 - PROGRESS: at 35.22% examples, 167638 words/s, in_qsize 5, out_qsize 0\n",
            "INFO:gensim.models.word2vec:EPOCH 25 - PROGRESS: at 72.20% examples, 166722 words/s, in_qsize 5, out_qsize 0\n",
            "DEBUG:gensim.models.word2vec:job loop exiting, total 55 jobs\n",
            "DEBUG:gensim.models.word2vec:worker exiting, processed 20 jobs\n",
            "DEBUG:gensim.models.word2vec:worker thread finished; awaiting finish of 2 more threads\n",
            "DEBUG:gensim.models.word2vec:worker exiting, processed 16 jobs\n",
            "DEBUG:gensim.models.word2vec:worker thread finished; awaiting finish of 1 more threads\n",
            "DEBUG:gensim.models.word2vec:worker exiting, processed 19 jobs\n",
            "DEBUG:gensim.models.word2vec:worker thread finished; awaiting finish of 0 more threads\n",
            "INFO:gensim.models.word2vec:EPOCH 25: training on 540242 raw words (486170 effective words) took 2.9s, 168636 effective words/s\n"
          ]
        },
        {
          "output_type": "stream",
          "name": "stdout",
          "text": [
            "Loss após a época 25: 0.0\n"
          ]
        },
        {
          "output_type": "stream",
          "name": "stderr",
          "text": [
            "INFO:gensim.models.word2vec:EPOCH 26 - PROGRESS: at 33.38% examples, 157469 words/s, in_qsize 5, out_qsize 0\n",
            "INFO:gensim.models.word2vec:EPOCH 26 - PROGRESS: at 61.16% examples, 143456 words/s, in_qsize 5, out_qsize 0\n",
            "DEBUG:gensim.models.word2vec:job loop exiting, total 55 jobs\n",
            "INFO:gensim.models.word2vec:EPOCH 26 - PROGRESS: at 96.30% examples, 152220 words/s, in_qsize 2, out_qsize 1\n",
            "DEBUG:gensim.models.word2vec:worker exiting, processed 18 jobs\n",
            "DEBUG:gensim.models.word2vec:worker thread finished; awaiting finish of 2 more threads\n",
            "DEBUG:gensim.models.word2vec:worker exiting, processed 19 jobs\n",
            "DEBUG:gensim.models.word2vec:worker thread finished; awaiting finish of 1 more threads\n",
            "DEBUG:gensim.models.word2vec:worker exiting, processed 18 jobs\n",
            "DEBUG:gensim.models.word2vec:worker thread finished; awaiting finish of 0 more threads\n",
            "INFO:gensim.models.word2vec:EPOCH 26: training on 540242 raw words (486061 effective words) took 3.1s, 155384 effective words/s\n"
          ]
        },
        {
          "output_type": "stream",
          "name": "stdout",
          "text": [
            "Loss após a época 26: 0.0\n"
          ]
        },
        {
          "output_type": "stream",
          "name": "stderr",
          "text": [
            "INFO:gensim.models.word2vec:EPOCH 27 - PROGRESS: at 22.25% examples, 104744 words/s, in_qsize 5, out_qsize 0\n",
            "INFO:gensim.models.word2vec:EPOCH 27 - PROGRESS: at 40.79% examples, 96316 words/s, in_qsize 6, out_qsize 0\n",
            "INFO:gensim.models.word2vec:EPOCH 27 - PROGRESS: at 63.00% examples, 97374 words/s, in_qsize 5, out_qsize 0\n",
            "INFO:gensim.models.word2vec:EPOCH 27 - PROGRESS: at 87.00% examples, 100810 words/s, in_qsize 5, out_qsize 0\n",
            "DEBUG:gensim.models.word2vec:job loop exiting, total 55 jobs\n",
            "DEBUG:gensim.models.word2vec:worker exiting, processed 18 jobs\n",
            "DEBUG:gensim.models.word2vec:worker thread finished; awaiting finish of 2 more threads\n",
            "DEBUG:gensim.models.word2vec:worker exiting, processed 18 jobs\n",
            "DEBUG:gensim.models.word2vec:worker thread finished; awaiting finish of 1 more threads\n",
            "DEBUG:gensim.models.word2vec:worker exiting, processed 19 jobs\n",
            "DEBUG:gensim.models.word2vec:worker thread finished; awaiting finish of 0 more threads\n",
            "INFO:gensim.models.word2vec:EPOCH 27: training on 540242 raw words (486096 effective words) took 4.8s, 101945 effective words/s\n"
          ]
        },
        {
          "output_type": "stream",
          "name": "stdout",
          "text": [
            "Loss após a época 27: 0.0\n"
          ]
        },
        {
          "output_type": "stream",
          "name": "stderr",
          "text": [
            "INFO:gensim.models.word2vec:EPOCH 28 - PROGRESS: at 25.95% examples, 123063 words/s, in_qsize 5, out_qsize 0\n",
            "INFO:gensim.models.word2vec:EPOCH 28 - PROGRESS: at 62.98% examples, 148352 words/s, in_qsize 5, out_qsize 0\n",
            "DEBUG:gensim.models.word2vec:job loop exiting, total 55 jobs\n",
            "INFO:gensim.models.word2vec:EPOCH 28 - PROGRESS: at 92.52% examples, 143362 words/s, in_qsize 5, out_qsize 0\n",
            "DEBUG:gensim.models.word2vec:worker exiting, processed 19 jobs\n",
            "DEBUG:gensim.models.word2vec:worker thread finished; awaiting finish of 2 more threads\n",
            "DEBUG:gensim.models.word2vec:worker exiting, processed 17 jobs\n",
            "DEBUG:gensim.models.word2vec:worker thread finished; awaiting finish of 1 more threads\n",
            "DEBUG:gensim.models.word2vec:worker exiting, processed 19 jobs\n",
            "DEBUG:gensim.models.word2vec:worker thread finished; awaiting finish of 0 more threads\n",
            "INFO:gensim.models.word2vec:EPOCH 28: training on 540242 raw words (486168 effective words) took 3.3s, 148095 effective words/s\n"
          ]
        },
        {
          "output_type": "stream",
          "name": "stdout",
          "text": [
            "Loss após a época 28: 0.0\n"
          ]
        },
        {
          "output_type": "stream",
          "name": "stderr",
          "text": [
            "INFO:gensim.models.word2vec:EPOCH 29 - PROGRESS: at 25.95% examples, 122156 words/s, in_qsize 5, out_qsize 0\n",
            "INFO:gensim.models.word2vec:EPOCH 29 - PROGRESS: at 64.83% examples, 148520 words/s, in_qsize 5, out_qsize 0\n",
            "DEBUG:gensim.models.word2vec:job loop exiting, total 55 jobs\n",
            "INFO:gensim.models.word2vec:EPOCH 29 - PROGRESS: at 94.36% examples, 146357 words/s, in_qsize 4, out_qsize 0\n",
            "DEBUG:gensim.models.word2vec:worker exiting, processed 19 jobs\n",
            "DEBUG:gensim.models.word2vec:worker thread finished; awaiting finish of 2 more threads\n",
            "DEBUG:gensim.models.word2vec:worker exiting, processed 18 jobs\n",
            "DEBUG:gensim.models.word2vec:worker thread finished; awaiting finish of 1 more threads\n",
            "DEBUG:gensim.models.word2vec:worker exiting, processed 18 jobs\n",
            "DEBUG:gensim.models.word2vec:worker thread finished; awaiting finish of 0 more threads\n",
            "INFO:gensim.models.word2vec:EPOCH 29: training on 540242 raw words (486053 effective words) took 3.3s, 147585 effective words/s\n",
            "INFO:gensim.utils:Word2Vec lifecycle event {'msg': 'training on 16207260 raw words (14584530 effective words) took 107.9s, 135206 effective words/s', 'datetime': '2024-07-10T13:17:32.082063', 'gensim': '4.3.2', 'python': '3.10.12 (main, Nov 20 2023, 15:14:05) [GCC 11.4.0]', 'platform': 'Linux-6.1.85+-x86_64-with-glibc2.35', 'event': 'train'}\n"
          ]
        },
        {
          "output_type": "stream",
          "name": "stdout",
          "text": [
            "Loss após a época 29: 0.0\n"
          ]
        },
        {
          "output_type": "execute_result",
          "data": {
            "text/plain": [
              "(14584530, 16207260)"
            ]
          },
          "metadata": {},
          "execution_count": 46
        }
      ]
    },
    {
      "cell_type": "code",
      "source": [
        "w2v_modelo_sg.wv.most_similar('rio')"
      ],
      "metadata": {
        "colab": {
          "base_uri": "https://localhost:8080/"
        },
        "id": "CC0e5K6GyReJ",
        "outputId": "833a8995-047c-416e-e2ce-e72632a9c788"
      },
      "execution_count": null,
      "outputs": [
        {
          "output_type": "execute_result",
          "data": {
            "text/plain": [
              "[('janeiro', 0.4253093898296356),\n",
              " ('upps', 0.39934101700782776),\n",
              " ('upp', 0.3912830352783203),\n",
              " ('deodoro', 0.39108407497406006),\n",
              " ('olympics', 0.38744398951530457),\n",
              " ('public', 0.38372156023979187),\n",
              " ('in', 0.38265272974967957),\n",
              " ('leblon', 0.37723174691200256),\n",
              " ('are', 0.3766883611679077),\n",
              " ('security', 0.37441807985305786)]"
            ]
          },
          "metadata": {},
          "execution_count": 47
        }
      ]
    },
    {
      "cell_type": "code",
      "source": [
        "w2v_modelo_sg.wv.most_similar('ferrari')"
      ],
      "metadata": {
        "colab": {
          "base_uri": "https://localhost:8080/"
        },
        "id": "TV30OiZqzE3M",
        "outputId": "44f2bd7c-888b-42e0-fe7c-b14651e737cd"
      },
      "execution_count": null,
      "outputs": [
        {
          "output_type": "execute_result",
          "data": {
            "text/plain": [
              "[('vettel', 0.6336820125579834),\n",
              " ('jerez', 0.5736679434776306),\n",
              " ('raikkonen', 0.57235187292099),\n",
              " ('mônaco', 0.49907374382019043),\n",
              " ('sauber', 0.48776552081108093),\n",
              " ('schumacher', 0.4865109920501709),\n",
              " ('nasr', 0.4861512780189514),\n",
              " ('mercedes', 0.483132541179657),\n",
              " ('verstappen', 0.4663412570953369),\n",
              " ('pontuar', 0.4542502164840698)]"
            ]
          },
          "metadata": {},
          "execution_count": 48
        }
      ]
    },
    {
      "cell_type": "code",
      "source": [
        "w2v_modelo.wv.save_word2vec_format('/content/drive/MyDrive/Databases/word2vec_2/modelo_cbow.txt', binary=False)\n",
        "w2v_modelo_sg.wv.save_word2vec_format('/content/drive/MyDrive/Databases/word2vec_2/modelo_skipgram.txt', binary=False)"
      ],
      "metadata": {
        "colab": {
          "base_uri": "https://localhost:8080/"
        },
        "id": "yI2GBrhszG7t",
        "outputId": "4b972626-4854-4ce8-aac8-4c13fd965e74"
      },
      "execution_count": null,
      "outputs": [
        {
          "output_type": "stream",
          "name": "stderr",
          "text": [
            "INFO:gensim.models.keyedvectors:storing 12924x300 projection weights into /content/drive/MyDrive/Databases/word2vec_2/modelo_cbow.txt\n",
            "DEBUG:smart_open.smart_open_lib:{'uri': '/content/drive/MyDrive/Databases/word2vec_2/modelo_cbow.txt', 'mode': 'wb', 'buffering': -1, 'encoding': None, 'errors': None, 'newline': None, 'closefd': True, 'opener': None, 'compression': 'infer_from_extension', 'transport_params': None}\n",
            "INFO:gensim.models.keyedvectors:storing 12924x300 projection weights into /content/drive/MyDrive/Databases/word2vec_2/modelo_skipgram.txt\n",
            "DEBUG:smart_open.smart_open_lib:{'uri': '/content/drive/MyDrive/Databases/word2vec_2/modelo_skipgram.txt', 'mode': 'wb', 'buffering': -1, 'encoding': None, 'errors': None, 'newline': None, 'closefd': True, 'opener': None, 'compression': 'infer_from_extension', 'transport_params': None}\n"
          ]
        }
      ]
    },
    {
      "cell_type": "code",
      "source": [],
      "metadata": {
        "id": "vfZ87yNx1VQb"
      },
      "execution_count": null,
      "outputs": []
    }
  ]
}